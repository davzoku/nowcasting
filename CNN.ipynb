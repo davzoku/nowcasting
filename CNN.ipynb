{
 "cells": [
  {
   "cell_type": "markdown",
   "id": "91dfb3eb-136d-4c10-a5d4-bbd49dedad0e",
   "metadata": {},
   "source": [
    "# Convolutional Neural Network for GDP Time Series Forecasting"
   ]
  },
  {
   "cell_type": "code",
   "execution_count": 1,
   "id": "deac3809-e72c-4168-afda-2cf4d71dc74b",
   "metadata": {},
   "outputs": [],
   "source": [
    "# load relevant packages\n",
    "import numpy as np\n",
    "import pandas as pd\n",
    "\n",
    "import matplotlib.pyplot as plt\n",
    "from sklearn.preprocessing import MinMaxScaler, StandardScaler\n",
    "\n",
    "from torch.utils.data import DataLoader, Dataset\n",
    "import torch.nn as nn\n",
    "import torch.optim as optim\n",
    "\n",
    "from cnn_model import CNN_1D\n",
    "from windowing import WindowGenerator\n",
    "\n",
    "%load_ext autoreload\n",
    "%autoreload 2"
   ]
  },
  {
   "cell_type": "code",
   "execution_count": 2,
   "id": "f15339c1-4dda-4f20-acf6-e50590739fe1",
   "metadata": {},
   "outputs": [
    {
     "data": {
      "text/html": [
       "<div>\n",
       "<style scoped>\n",
       "    .dataframe tbody tr th:only-of-type {\n",
       "        vertical-align: middle;\n",
       "    }\n",
       "\n",
       "    .dataframe tbody tr th {\n",
       "        vertical-align: top;\n",
       "    }\n",
       "\n",
       "    .dataframe thead th {\n",
       "        text-align: right;\n",
       "    }\n",
       "</style>\n",
       "<table border=\"1\" class=\"dataframe\">\n",
       "  <thead>\n",
       "    <tr style=\"text-align: right;\">\n",
       "      <th></th>\n",
       "      <th>Gross Domestic Product, Year On Year Growth Rate | GDP In Chained (2015) Dollars</th>\n",
       "      <th>Food &amp; Beverage Services Index, (2017 = 100), In Chained Volume Terms | Total</th>\n",
       "      <th>Retail Sales Index, (2017 = 100), In Chained Volume Terms | Total</th>\n",
       "      <th>Sea Cargo And Shipping Statistics (Total Cargo) | Total Container Throughput (Thousand Twenty-Foot Equivalent Units)</th>\n",
       "      <th>Air Cargo Tonnage | Total Direct Tonnage (Tonne)</th>\n",
       "      <th>Merchandise Imports By Commodity Division | Total Merchandise Imports</th>\n",
       "      <th>M1 Money Supply</th>\n",
       "      <th>Index Of Industrial Production (2019 = 100) | Total</th>\n",
       "      <th>Domestic Exports Of Major Non-Oil Products | Total Electronic Products</th>\n",
       "      <th>Composite Leading Index (2015 = 100) | Quarterly Composite Leading Index</th>\n",
       "      <th>Business Expectations For The Services Sector - General Business Outlook For The Next 6 Months, Weighted Percentages Of Up, Same, Down | Net Weighted Balance - Total Services Sector</th>\n",
       "      <th>Domestic Wholesale Trade Index, (2017 = 100), In Chained Volume Terms | Total</th>\n",
       "      <th>Foreign Wholesale Trade Index, (2017 = 100), In Chained Volume Terms | Total</th>\n",
       "      <th>Job Vacancies By Industry And Occupational Group (SSIC 2020) (End Of Period) | Total</th>\n",
       "      <th>Unemployment Rate (End Of Period) | Total Unemployment Rate</th>\n",
       "    </tr>\n",
       "    <tr>\n",
       "      <th>Index</th>\n",
       "      <th></th>\n",
       "      <th></th>\n",
       "      <th></th>\n",
       "      <th></th>\n",
       "      <th></th>\n",
       "      <th></th>\n",
       "      <th></th>\n",
       "      <th></th>\n",
       "      <th></th>\n",
       "      <th></th>\n",
       "      <th></th>\n",
       "      <th></th>\n",
       "      <th></th>\n",
       "      <th></th>\n",
       "      <th></th>\n",
       "    </tr>\n",
       "  </thead>\n",
       "  <tbody>\n",
       "    <tr>\n",
       "      <th>1997-01-31</th>\n",
       "      <td>5.766667</td>\n",
       "      <td>111.147</td>\n",
       "      <td>15.715098</td>\n",
       "      <td>5.488212</td>\n",
       "      <td>93891.4</td>\n",
       "      <td>1.600448</td>\n",
       "      <td>9.938033</td>\n",
       "      <td>-5.407013</td>\n",
       "      <td>-0.636598</td>\n",
       "      <td>2.039052</td>\n",
       "      <td>5.333333</td>\n",
       "      <td>-4.953253</td>\n",
       "      <td>4.805478</td>\n",
       "      <td>-6.735186</td>\n",
       "      <td>-14.074074</td>\n",
       "    </tr>\n",
       "    <tr>\n",
       "      <th>1997-02-28</th>\n",
       "      <td>5.733333</td>\n",
       "      <td>109.571</td>\n",
       "      <td>-19.711470</td>\n",
       "      <td>0.511269</td>\n",
       "      <td>95647.4</td>\n",
       "      <td>-11.022186</td>\n",
       "      <td>6.894096</td>\n",
       "      <td>-3.535354</td>\n",
       "      <td>-5.900391</td>\n",
       "      <td>2.393572</td>\n",
       "      <td>3.666667</td>\n",
       "      <td>-1.013923</td>\n",
       "      <td>6.974227</td>\n",
       "      <td>-5.116564</td>\n",
       "      <td>-17.037037</td>\n",
       "    </tr>\n",
       "    <tr>\n",
       "      <th>1997-03-31</th>\n",
       "      <td>5.700000</td>\n",
       "      <td>118.447</td>\n",
       "      <td>3.658993</td>\n",
       "      <td>16.211454</td>\n",
       "      <td>94048.8</td>\n",
       "      <td>1.893330</td>\n",
       "      <td>9.790800</td>\n",
       "      <td>-6.288319</td>\n",
       "      <td>-5.065484</td>\n",
       "      <td>2.748092</td>\n",
       "      <td>2.000000</td>\n",
       "      <td>2.925407</td>\n",
       "      <td>9.142976</td>\n",
       "      <td>-3.497942</td>\n",
       "      <td>-20.000000</td>\n",
       "    </tr>\n",
       "    <tr>\n",
       "      <th>1997-04-30</th>\n",
       "      <td>6.966667</td>\n",
       "      <td>107.974</td>\n",
       "      <td>2.971000</td>\n",
       "      <td>9.481268</td>\n",
       "      <td>94470.6</td>\n",
       "      <td>2.179168</td>\n",
       "      <td>4.434663</td>\n",
       "      <td>2.294903</td>\n",
       "      <td>-1.744494</td>\n",
       "      <td>3.147185</td>\n",
       "      <td>8.666667</td>\n",
       "      <td>6.860232</td>\n",
       "      <td>10.549475</td>\n",
       "      <td>-3.759513</td>\n",
       "      <td>-20.277778</td>\n",
       "    </tr>\n",
       "    <tr>\n",
       "      <th>1997-05-31</th>\n",
       "      <td>8.233333</td>\n",
       "      <td>113.795</td>\n",
       "      <td>2.081662</td>\n",
       "      <td>7.937089</td>\n",
       "      <td>94257.8</td>\n",
       "      <td>6.845282</td>\n",
       "      <td>5.632341</td>\n",
       "      <td>0.208366</td>\n",
       "      <td>-7.157538</td>\n",
       "      <td>3.546278</td>\n",
       "      <td>15.333333</td>\n",
       "      <td>10.795056</td>\n",
       "      <td>11.955975</td>\n",
       "      <td>-4.021084</td>\n",
       "      <td>-20.555556</td>\n",
       "    </tr>\n",
       "    <tr>\n",
       "      <th>...</th>\n",
       "      <td>...</td>\n",
       "      <td>...</td>\n",
       "      <td>...</td>\n",
       "      <td>...</td>\n",
       "      <td>...</td>\n",
       "      <td>...</td>\n",
       "      <td>...</td>\n",
       "      <td>...</td>\n",
       "      <td>...</td>\n",
       "      <td>...</td>\n",
       "      <td>...</td>\n",
       "      <td>...</td>\n",
       "      <td>...</td>\n",
       "      <td>...</td>\n",
       "      <td>...</td>\n",
       "    </tr>\n",
       "    <tr>\n",
       "      <th>2022-11-30</th>\n",
       "      <td>2.733333</td>\n",
       "      <td>94.672</td>\n",
       "      <td>3.528764</td>\n",
       "      <td>-6.174603</td>\n",
       "      <td>99219.0</td>\n",
       "      <td>-0.041443</td>\n",
       "      <td>3.938170</td>\n",
       "      <td>-3.701242</td>\n",
       "      <td>-20.219001</td>\n",
       "      <td>-3.943664</td>\n",
       "      <td>5.000000</td>\n",
       "      <td>-2.638300</td>\n",
       "      <td>1.877809</td>\n",
       "      <td>-5.648494</td>\n",
       "      <td>-16.190476</td>\n",
       "    </tr>\n",
       "    <tr>\n",
       "      <th>2022-12-31</th>\n",
       "      <td>2.100000</td>\n",
       "      <td>102.994</td>\n",
       "      <td>4.257838</td>\n",
       "      <td>-1.193731</td>\n",
       "      <td>99029.0</td>\n",
       "      <td>-8.242208</td>\n",
       "      <td>6.151695</td>\n",
       "      <td>-3.505964</td>\n",
       "      <td>-17.856474</td>\n",
       "      <td>-5.422222</td>\n",
       "      <td>3.000000</td>\n",
       "      <td>-0.911467</td>\n",
       "      <td>1.223659</td>\n",
       "      <td>-9.912281</td>\n",
       "      <td>-14.285714</td>\n",
       "    </tr>\n",
       "    <tr>\n",
       "      <th>2023-01-31</th>\n",
       "      <td>1.533333</td>\n",
       "      <td>99.578</td>\n",
       "      <td>-4.899654</td>\n",
       "      <td>-4.905048</td>\n",
       "      <td>85680.0</td>\n",
       "      <td>-11.227587</td>\n",
       "      <td>6.068394</td>\n",
       "      <td>-3.013121</td>\n",
       "      <td>-26.816758</td>\n",
       "      <td>-5.461702</td>\n",
       "      <td>3.333333</td>\n",
       "      <td>2.834411</td>\n",
       "      <td>0.420000</td>\n",
       "      <td>-5.828636</td>\n",
       "      <td>-16.190476</td>\n",
       "    </tr>\n",
       "    <tr>\n",
       "      <th>2023-02-28</th>\n",
       "      <td>0.966667</td>\n",
       "      <td>88.697</td>\n",
       "      <td>8.642604</td>\n",
       "      <td>-5.595217</td>\n",
       "      <td>87288.0</td>\n",
       "      <td>-4.710306</td>\n",
       "      <td>5.942270</td>\n",
       "      <td>-9.611680</td>\n",
       "      <td>-26.537747</td>\n",
       "      <td>-5.501182</td>\n",
       "      <td>3.666667</td>\n",
       "      <td>6.580290</td>\n",
       "      <td>-0.383658</td>\n",
       "      <td>-5.775872</td>\n",
       "      <td>-18.095238</td>\n",
       "    </tr>\n",
       "    <tr>\n",
       "      <th>2023-03-31</th>\n",
       "      <td>0.400000</td>\n",
       "      <td>94.430</td>\n",
       "      <td>2.485396</td>\n",
       "      <td>7.962453</td>\n",
       "      <td>97640.0</td>\n",
       "      <td>-10.954811</td>\n",
       "      <td>6.632419</td>\n",
       "      <td>-3.782552</td>\n",
       "      <td>-22.266391</td>\n",
       "      <td>-5.540661</td>\n",
       "      <td>4.000000</td>\n",
       "      <td>10.326168</td>\n",
       "      <td>-1.187316</td>\n",
       "      <td>-4.783451</td>\n",
       "      <td>-20.000000</td>\n",
       "    </tr>\n",
       "  </tbody>\n",
       "</table>\n",
       "<p>315 rows × 15 columns</p>\n",
       "</div>"
      ],
      "text/plain": [
       "            Gross Domestic Product, Year On Year Growth Rate | GDP In Chained (2015) Dollars  \\\n",
       "Index                                                                                          \n",
       "1997-01-31                                           5.766667                                  \n",
       "1997-02-28                                           5.733333                                  \n",
       "1997-03-31                                           5.700000                                  \n",
       "1997-04-30                                           6.966667                                  \n",
       "1997-05-31                                           8.233333                                  \n",
       "...                                                       ...                                  \n",
       "2022-11-30                                           2.733333                                  \n",
       "2022-12-31                                           2.100000                                  \n",
       "2023-01-31                                           1.533333                                  \n",
       "2023-02-28                                           0.966667                                  \n",
       "2023-03-31                                           0.400000                                  \n",
       "\n",
       "            Food & Beverage Services Index, (2017 = 100), In Chained Volume Terms | Total  \\\n",
       "Index                                                                                       \n",
       "1997-01-31                                            111.147                               \n",
       "1997-02-28                                            109.571                               \n",
       "1997-03-31                                            118.447                               \n",
       "1997-04-30                                            107.974                               \n",
       "1997-05-31                                            113.795                               \n",
       "...                                                       ...                               \n",
       "2022-11-30                                             94.672                               \n",
       "2022-12-31                                            102.994                               \n",
       "2023-01-31                                             99.578                               \n",
       "2023-02-28                                             88.697                               \n",
       "2023-03-31                                             94.430                               \n",
       "\n",
       "            Retail Sales Index, (2017 = 100), In Chained Volume Terms | Total  \\\n",
       "Index                                                                           \n",
       "1997-01-31                                          15.715098                   \n",
       "1997-02-28                                         -19.711470                   \n",
       "1997-03-31                                           3.658993                   \n",
       "1997-04-30                                           2.971000                   \n",
       "1997-05-31                                           2.081662                   \n",
       "...                                                       ...                   \n",
       "2022-11-30                                           3.528764                   \n",
       "2022-12-31                                           4.257838                   \n",
       "2023-01-31                                          -4.899654                   \n",
       "2023-02-28                                           8.642604                   \n",
       "2023-03-31                                           2.485396                   \n",
       "\n",
       "            Sea Cargo And Shipping Statistics (Total Cargo) | Total Container Throughput (Thousand Twenty-Foot Equivalent Units)  \\\n",
       "Index                                                                                                                              \n",
       "1997-01-31                                           5.488212                                                                      \n",
       "1997-02-28                                           0.511269                                                                      \n",
       "1997-03-31                                          16.211454                                                                      \n",
       "1997-04-30                                           9.481268                                                                      \n",
       "1997-05-31                                           7.937089                                                                      \n",
       "...                                                       ...                                                                      \n",
       "2022-11-30                                          -6.174603                                                                      \n",
       "2022-12-31                                          -1.193731                                                                      \n",
       "2023-01-31                                          -4.905048                                                                      \n",
       "2023-02-28                                          -5.595217                                                                      \n",
       "2023-03-31                                           7.962453                                                                      \n",
       "\n",
       "            Air Cargo Tonnage | Total Direct Tonnage (Tonne)  \\\n",
       "Index                                                          \n",
       "1997-01-31                                           93891.4   \n",
       "1997-02-28                                           95647.4   \n",
       "1997-03-31                                           94048.8   \n",
       "1997-04-30                                           94470.6   \n",
       "1997-05-31                                           94257.8   \n",
       "...                                                      ...   \n",
       "2022-11-30                                           99219.0   \n",
       "2022-12-31                                           99029.0   \n",
       "2023-01-31                                           85680.0   \n",
       "2023-02-28                                           87288.0   \n",
       "2023-03-31                                           97640.0   \n",
       "\n",
       "            Merchandise Imports By Commodity Division | Total Merchandise Imports  \\\n",
       "Index                                                                               \n",
       "1997-01-31                                           1.600448                       \n",
       "1997-02-28                                         -11.022186                       \n",
       "1997-03-31                                           1.893330                       \n",
       "1997-04-30                                           2.179168                       \n",
       "1997-05-31                                           6.845282                       \n",
       "...                                                       ...                       \n",
       "2022-11-30                                          -0.041443                       \n",
       "2022-12-31                                          -8.242208                       \n",
       "2023-01-31                                         -11.227587                       \n",
       "2023-02-28                                          -4.710306                       \n",
       "2023-03-31                                         -10.954811                       \n",
       "\n",
       "            M1 Money Supply  \\\n",
       "Index                         \n",
       "1997-01-31         9.938033   \n",
       "1997-02-28         6.894096   \n",
       "1997-03-31         9.790800   \n",
       "1997-04-30         4.434663   \n",
       "1997-05-31         5.632341   \n",
       "...                     ...   \n",
       "2022-11-30         3.938170   \n",
       "2022-12-31         6.151695   \n",
       "2023-01-31         6.068394   \n",
       "2023-02-28         5.942270   \n",
       "2023-03-31         6.632419   \n",
       "\n",
       "            Index Of Industrial Production (2019 = 100) | Total  \\\n",
       "Index                                                             \n",
       "1997-01-31                                          -5.407013     \n",
       "1997-02-28                                          -3.535354     \n",
       "1997-03-31                                          -6.288319     \n",
       "1997-04-30                                           2.294903     \n",
       "1997-05-31                                           0.208366     \n",
       "...                                                       ...     \n",
       "2022-11-30                                          -3.701242     \n",
       "2022-12-31                                          -3.505964     \n",
       "2023-01-31                                          -3.013121     \n",
       "2023-02-28                                          -9.611680     \n",
       "2023-03-31                                          -3.782552     \n",
       "\n",
       "            Domestic Exports Of Major Non-Oil Products | Total Electronic Products  \\\n",
       "Index                                                                                \n",
       "1997-01-31                                          -0.636598                        \n",
       "1997-02-28                                          -5.900391                        \n",
       "1997-03-31                                          -5.065484                        \n",
       "1997-04-30                                          -1.744494                        \n",
       "1997-05-31                                          -7.157538                        \n",
       "...                                                       ...                        \n",
       "2022-11-30                                         -20.219001                        \n",
       "2022-12-31                                         -17.856474                        \n",
       "2023-01-31                                         -26.816758                        \n",
       "2023-02-28                                         -26.537747                        \n",
       "2023-03-31                                         -22.266391                        \n",
       "\n",
       "            Composite Leading Index (2015 = 100) | Quarterly Composite Leading Index  \\\n",
       "Index                                                                                  \n",
       "1997-01-31                                           2.039052                          \n",
       "1997-02-28                                           2.393572                          \n",
       "1997-03-31                                           2.748092                          \n",
       "1997-04-30                                           3.147185                          \n",
       "1997-05-31                                           3.546278                          \n",
       "...                                                       ...                          \n",
       "2022-11-30                                          -3.943664                          \n",
       "2022-12-31                                          -5.422222                          \n",
       "2023-01-31                                          -5.461702                          \n",
       "2023-02-28                                          -5.501182                          \n",
       "2023-03-31                                          -5.540661                          \n",
       "\n",
       "            Business Expectations For The Services Sector - General Business Outlook For The Next 6 Months, Weighted Percentages Of Up, Same, Down | Net Weighted Balance - Total Services Sector  \\\n",
       "Index                                                                                                                                                                                               \n",
       "1997-01-31                                           5.333333                                                                                                                                       \n",
       "1997-02-28                                           3.666667                                                                                                                                       \n",
       "1997-03-31                                           2.000000                                                                                                                                       \n",
       "1997-04-30                                           8.666667                                                                                                                                       \n",
       "1997-05-31                                          15.333333                                                                                                                                       \n",
       "...                                                       ...                                                                                                                                       \n",
       "2022-11-30                                           5.000000                                                                                                                                       \n",
       "2022-12-31                                           3.000000                                                                                                                                       \n",
       "2023-01-31                                           3.333333                                                                                                                                       \n",
       "2023-02-28                                           3.666667                                                                                                                                       \n",
       "2023-03-31                                           4.000000                                                                                                                                       \n",
       "\n",
       "            Domestic Wholesale Trade Index, (2017 = 100), In Chained Volume Terms | Total  \\\n",
       "Index                                                                                       \n",
       "1997-01-31                                          -4.953253                               \n",
       "1997-02-28                                          -1.013923                               \n",
       "1997-03-31                                           2.925407                               \n",
       "1997-04-30                                           6.860232                               \n",
       "1997-05-31                                          10.795056                               \n",
       "...                                                       ...                               \n",
       "2022-11-30                                          -2.638300                               \n",
       "2022-12-31                                          -0.911467                               \n",
       "2023-01-31                                           2.834411                               \n",
       "2023-02-28                                           6.580290                               \n",
       "2023-03-31                                          10.326168                               \n",
       "\n",
       "            Foreign Wholesale Trade Index, (2017 = 100), In Chained Volume Terms | Total  \\\n",
       "Index                                                                                      \n",
       "1997-01-31                                           4.805478                              \n",
       "1997-02-28                                           6.974227                              \n",
       "1997-03-31                                           9.142976                              \n",
       "1997-04-30                                          10.549475                              \n",
       "1997-05-31                                          11.955975                              \n",
       "...                                                       ...                              \n",
       "2022-11-30                                           1.877809                              \n",
       "2022-12-31                                           1.223659                              \n",
       "2023-01-31                                           0.420000                              \n",
       "2023-02-28                                          -0.383658                              \n",
       "2023-03-31                                          -1.187316                              \n",
       "\n",
       "            Job Vacancies By Industry And Occupational Group (SSIC 2020) (End Of Period) | Total  \\\n",
       "Index                                                                                              \n",
       "1997-01-31                                          -6.735186                                      \n",
       "1997-02-28                                          -5.116564                                      \n",
       "1997-03-31                                          -3.497942                                      \n",
       "1997-04-30                                          -3.759513                                      \n",
       "1997-05-31                                          -4.021084                                      \n",
       "...                                                       ...                                      \n",
       "2022-11-30                                          -5.648494                                      \n",
       "2022-12-31                                          -9.912281                                      \n",
       "2023-01-31                                          -5.828636                                      \n",
       "2023-02-28                                          -5.775872                                      \n",
       "2023-03-31                                          -4.783451                                      \n",
       "\n",
       "            Unemployment Rate (End Of Period) | Total Unemployment Rate  \n",
       "Index                                                                    \n",
       "1997-01-31                                         -14.074074            \n",
       "1997-02-28                                         -17.037037            \n",
       "1997-03-31                                         -20.000000            \n",
       "1997-04-30                                         -20.277778            \n",
       "1997-05-31                                         -20.555556            \n",
       "...                                                       ...            \n",
       "2022-11-30                                         -16.190476            \n",
       "2022-12-31                                         -14.285714            \n",
       "2023-01-31                                         -16.190476            \n",
       "2023-02-28                                         -18.095238            \n",
       "2023-03-31                                         -20.000000            \n",
       "\n",
       "[315 rows x 15 columns]"
      ]
     },
     "execution_count": 2,
     "metadata": {},
     "output_type": "execute_result"
    }
   ],
   "source": [
    "# load cleaned data\n",
    "df = pd.read_csv('data_cleaned.csv')\n",
    "df.rename(columns={df.columns[0]: 'Index'}, inplace=True)\n",
    "df.set_index('Index', inplace=True)\n",
    "\n",
    "df"
   ]
  },
  {
   "cell_type": "markdown",
   "id": "2591466f-9172-4ae5-90a6-1ff282023029",
   "metadata": {},
   "source": [
    "## Data Preprocessing\n",
    "\n",
    "In this section, the following steps will be performed in sequence.\n",
    "\n",
    "1. split data into train and test (0.8:0.2)\n",
    "    - train duration: 1997 - 2017\n",
    "    - test duration 2018 - 2023\n",
    "2. Perform scaling on the dataset; specifically\n",
    "    - fit transform train\n",
    "    - transform test to prevent data leakage\n",
    "    - X, y are scale separately so that the y_pred can be inverse_transform subsequently."
   ]
  },
  {
   "cell_type": "code",
   "execution_count": 3,
   "id": "5815afe5-f4b9-48d3-a26a-a4106c523b23",
   "metadata": {},
   "outputs": [],
   "source": [
    "# manual split data so that we can train and test for specific year ranges\n",
    "train = df[(df.index < \"2018-01-31\")].copy()\n",
    "test = df[df.index >= \"2018-01-31\"].copy()\n",
    "total = df.copy()\n",
    "total_dateindex = df.index\n",
    "train_dateindex = train.index\n",
    "test_dateindex = test.index"
   ]
  },
  {
   "cell_type": "code",
   "execution_count": 131,
   "id": "bbba1952-b3c4-4242-aea8-2a83232f0dff",
   "metadata": {},
   "outputs": [],
   "source": [
    "target_col = 'Gross Domestic Product, Year On Year Growth Rate | GDP In Chained (2015) Dollars'\n",
    "X = df.drop(target_col, axis =1)\n",
    "y = df[target_col] \n",
    "\n",
    "X_train = X[(X.index < \"2018-01-31\")].copy()\n",
    "X_test = X[X.index >= \"2018-01-31\"].copy()\n",
    "y_train = y[(y.index < \"2018-01-31\")].copy()\n",
    "y_test = y[y.index >= \"2018-01-31\"].copy()\n",
    "\n",
    "scaler = StandardScaler()\n",
    "y_scaler = StandardScaler()\n",
    "X_train = scaler.fit_transform(X_train)\n",
    "X_test = scaler.transform(X_test)\n",
    "y_train = y_scaler.fit_transform(y_train.values.reshape(-1,1))\n",
    "y_test = y_scaler.transform(y_test.values.reshape(-1,1))\n",
    "X_total = scaler.transform(X)\n",
    "y_total = y_scaler.transform(y.values.reshape(-1,1))"
   ]
  },
  {
   "cell_type": "markdown",
   "id": "fe9cf6c1-a930-410c-b108-ff365921bc5b",
   "metadata": {},
   "source": [
    "## Single Conv1d Model"
   ]
  },
  {
   "cell_type": "code",
   "execution_count": 5,
   "id": "55fa4703-77eb-4214-9793-0be379fd82a1",
   "metadata": {},
   "outputs": [],
   "source": [
    "batch_size=18\n",
    "\n",
    "# train and test dataloaders for lookback=6, lookahead=1\n",
    "lookback=6\n",
    "lookahead=1\n",
    "learning_rate = 0.001\n",
    "n_features = 15\n",
    "num_epochs = 200"
   ]
  },
  {
   "cell_type": "code",
   "execution_count": 6,
   "id": "0819898a-66f5-48f0-bf48-0e5fc12bfb3f",
   "metadata": {},
   "outputs": [],
   "source": [
    "train_dataloader1 = WindowGenerator(X_train, y_train,\n",
    "                                  lookback=lookback,\n",
    "                                  lookahead=lookahead,\n",
    "                                  batch_size=batch_size).make_dataloader()\n",
    "\n",
    "test_dataloader1 = WindowGenerator(X_test, y_test,\n",
    "                                 lookback=lookback,\n",
    "                                 lookahead=lookahead,\n",
    "                                 batch_size=batch_size).make_dataloader()"
   ]
  },
  {
   "cell_type": "code",
   "execution_count": 9,
   "id": "bc963fe3-5fc3-44c6-804a-e0c89b57c6ee",
   "metadata": {},
   "outputs": [
    {
     "ename": "NameError",
     "evalue": "name 'TimeSeriesDataset' is not defined",
     "output_type": "error",
     "traceback": [
      "\u001b[0;31m---------------------------------------------------------------------------\u001b[0m",
      "\u001b[0;31mNameError\u001b[0m                                 Traceback (most recent call last)",
      "Cell \u001b[0;32mIn[9], line 3\u001b[0m\n\u001b[1;32m      1\u001b[0m train_data \u001b[38;5;241m=\u001b[39m WindowGenerator(X_train, y_train)\u001b[38;5;241m.\u001b[39msplit_data()\n\u001b[1;32m      2\u001b[0m test_data \u001b[38;5;241m=\u001b[39m WindowGenerator(X_test,y_test)\u001b[38;5;241m.\u001b[39msplit_data()\n\u001b[0;32m----> 3\u001b[0m train_dataset \u001b[38;5;241m=\u001b[39m TimeSeriesDataset(train_data[\u001b[38;5;241m0\u001b[39m], train_data[\u001b[38;5;241m1\u001b[39m])\n\u001b[1;32m      4\u001b[0m test_dataset \u001b[38;5;241m=\u001b[39m TimeSeriesDataset(test_data[\u001b[38;5;241m0\u001b[39m], test_data[\u001b[38;5;241m1\u001b[39m])\n\u001b[1;32m      5\u001b[0m train_dataloader \u001b[38;5;241m=\u001b[39m DataLoader(train_dataset, batch_size\u001b[38;5;241m=\u001b[39m\u001b[38;5;241m18\u001b[39m, shuffle\u001b[38;5;241m=\u001b[39m\u001b[38;5;28;01mTrue\u001b[39;00m)\n",
      "\u001b[0;31mNameError\u001b[0m: name 'TimeSeriesDataset' is not defined"
     ]
    }
   ],
   "source": [
    "# train_data = WindowGenerator(X_train, y_train).split_data()\n",
    "# test_data = WindowGenerator(X_test,y_test).split_data()\n",
    "# train_dataset = TimeSeriesDataset(train_data[0], train_data[1])\n",
    "# test_dataset = TimeSeriesDataset(test_data[0], test_data[1])\n",
    "# train_dataloader = DataLoader(train_dataset, batch_size=18, shuffle=True)\n",
    "# test_dataloader = DataLoader(test_dataset, batch_size=18, shuffle=True)"
   ]
  },
  {
   "cell_type": "code",
   "execution_count": 48,
   "id": "76795c44-04c6-421a-ad7e-fe0bdd4928a0",
   "metadata": {},
   "outputs": [
    {
     "name": "stdout",
     "output_type": "stream",
     "text": [
      "torch.device => mps\n"
     ]
    },
    {
     "name": "stderr",
     "output_type": "stream",
     "text": [
      "  0%|                                                                             | 0/200 [00:00<?, ?it/s]/opt/homebrew/Caskroom/miniconda/base/envs/dfm2/lib/python3.11/site-packages/torch/nn/modules/loss.py:536: UserWarning: Using a target size (torch.Size([18])) that is different to the input size (torch.Size([18, 1])). This will likely lead to incorrect results due to broadcasting. Please ensure they have the same size.\n",
      "  return F.mse_loss(input, target, reduction=self.reduction)\n",
      "/opt/homebrew/Caskroom/miniconda/base/envs/dfm2/lib/python3.11/site-packages/torch/nn/modules/loss.py:536: UserWarning: Using a target size (torch.Size([11])) that is different to the input size (torch.Size([11, 1])). This will likely lead to incorrect results due to broadcasting. Please ensure they have the same size.\n",
      "  return F.mse_loss(input, target, reduction=self.reduction)\n",
      "/opt/homebrew/Caskroom/miniconda/base/envs/dfm2/lib/python3.11/site-packages/torch/nn/modules/loss.py:536: UserWarning: Using a target size (torch.Size([2])) that is different to the input size (torch.Size([2, 1])). This will likely lead to incorrect results due to broadcasting. Please ensure they have the same size.\n",
      "  return F.mse_loss(input, target, reduction=self.reduction)\n",
      "  1%|▋                                                                    | 2/200 [00:00<00:10, 19.63it/s]"
     ]
    },
    {
     "name": "stdout",
     "output_type": "stream",
     "text": [
      "Epoch 1/200, Loss: 0.3584 Val loss:2.9142\n",
      "Epoch 2/200, Loss: 0.1306 Val loss:1.7896\n",
      "Epoch 3/200, Loss: 0.1266 Val loss:2.2508\n"
     ]
    },
    {
     "name": "stderr",
     "output_type": "stream",
     "text": [
      "  4%|██▍                                                                  | 7/200 [00:00<00:10, 18.63it/s]"
     ]
    },
    {
     "name": "stdout",
     "output_type": "stream",
     "text": [
      "Epoch 4/200, Loss: 0.0709 Val loss:2.0196\n",
      "Epoch 5/200, Loss: 0.0421 Val loss:2.0003\n",
      "Epoch 6/200, Loss: 0.0259 Val loss:1.9679\n",
      "Epoch 7/200, Loss: 0.0229 Val loss:1.8117\n",
      "Epoch 8/200, Loss: 0.0238 Val loss:1.7041\n"
     ]
    },
    {
     "name": "stderr",
     "output_type": "stream",
     "text": [
      "  6%|████▍                                                               | 13/200 [00:00<00:09, 20.50it/s]"
     ]
    },
    {
     "name": "stdout",
     "output_type": "stream",
     "text": [
      "Epoch 9/200, Loss: 0.0150 Val loss:1.8633\n",
      "Epoch 10/200, Loss: 0.0160 Val loss:2.0747\n",
      "Epoch 11/200, Loss: 0.0525 Val loss:1.4283\n",
      "Epoch 12/200, Loss: 0.0115 Val loss:1.3796\n",
      "Epoch 13/200, Loss: 0.1432 Val loss:3.4157\n"
     ]
    },
    {
     "name": "stderr",
     "output_type": "stream",
     "text": [
      "  8%|█████▍                                                              | 16/200 [00:00<00:08, 21.28it/s]"
     ]
    },
    {
     "name": "stdout",
     "output_type": "stream",
     "text": [
      "Epoch 14/200, Loss: 0.0556 Val loss:1.4719\n",
      "Epoch 15/200, Loss: 0.0202 Val loss:1.8651\n",
      "Epoch 16/200, Loss: 0.0147 Val loss:1.9065\n",
      "Epoch 17/200, Loss: 0.0168 Val loss:1.7239\n",
      "Epoch 18/200, Loss: 0.0112 Val loss:2.0635\n"
     ]
    },
    {
     "name": "stderr",
     "output_type": "stream",
     "text": [
      " 11%|███████▍                                                            | 22/200 [00:01<00:07, 23.33it/s]"
     ]
    },
    {
     "name": "stdout",
     "output_type": "stream",
     "text": [
      "Epoch 19/200, Loss: 0.0207 Val loss:1.6950\n",
      "Epoch 20/200, Loss: 0.0110 Val loss:1.9434\n",
      "Epoch 21/200, Loss: 0.0120 Val loss:1.8475\n",
      "Epoch 22/200, Loss: 0.0118 Val loss:1.8142\n",
      "Epoch 23/200, Loss: 0.0110 Val loss:1.9028\n",
      "Epoch 24/200, Loss: 0.0111 Val loss:1.8977\n"
     ]
    },
    {
     "name": "stderr",
     "output_type": "stream",
     "text": [
      " 14%|█████████▌                                                          | 28/200 [00:01<00:07, 23.35it/s]"
     ]
    },
    {
     "name": "stdout",
     "output_type": "stream",
     "text": [
      "Epoch 25/200, Loss: 0.0131 Val loss:1.7011\n",
      "Epoch 26/200, Loss: 0.0139 Val loss:1.9977\n",
      "Epoch 27/200, Loss: 0.0107 Val loss:2.0747\n",
      "Epoch 28/200, Loss: 0.0292 Val loss:1.4745\n",
      "Epoch 29/200, Loss: 0.0383 Val loss:2.2281\n",
      "Epoch 30/200, Loss: 0.0110 Val loss:2.2251\n"
     ]
    },
    {
     "name": "stderr",
     "output_type": "stream",
     "text": [
      " 17%|███████████▌                                                        | 34/200 [00:01<00:06, 24.43it/s]"
     ]
    },
    {
     "name": "stdout",
     "output_type": "stream",
     "text": [
      "Epoch 31/200, Loss: 0.0346 Val loss:1.3934\n",
      "Epoch 32/200, Loss: 0.0534 Val loss:2.6004\n",
      "Epoch 33/200, Loss: 0.0247 Val loss:1.5783\n",
      "Epoch 34/200, Loss: 0.0140 Val loss:2.1093\n",
      "Epoch 35/200, Loss: 0.0137 Val loss:1.7223\n"
     ]
    },
    {
     "name": "stderr",
     "output_type": "stream",
     "text": [
      " 20%|█████████████▌                                                      | 40/200 [00:01<00:06, 24.67it/s]"
     ]
    },
    {
     "name": "stdout",
     "output_type": "stream",
     "text": [
      "Epoch 36/200, Loss: 0.0125 Val loss:2.1614\n",
      "Epoch 37/200, Loss: 0.0157 Val loss:1.6585\n",
      "Epoch 38/200, Loss: 0.0156 Val loss:2.1971\n",
      "Epoch 39/200, Loss: 0.0143 Val loss:1.6901\n",
      "Epoch 40/200, Loss: 0.0131 Val loss:2.1286\n",
      "Epoch 41/200, Loss: 0.0126 Val loss:1.7201\n"
     ]
    },
    {
     "name": "stderr",
     "output_type": "stream",
     "text": [
      " 23%|███████████████▋                                                    | 46/200 [00:02<00:06, 25.44it/s]"
     ]
    },
    {
     "name": "stdout",
     "output_type": "stream",
     "text": [
      "Epoch 42/200, Loss: 0.0129 Val loss:2.1547\n",
      "Epoch 43/200, Loss: 0.0142 Val loss:1.6581\n",
      "Epoch 44/200, Loss: 0.0162 Val loss:2.2391\n",
      "Epoch 45/200, Loss: 0.0158 Val loss:1.6401\n",
      "Epoch 46/200, Loss: 0.0148 Val loss:2.1723\n",
      "Epoch 47/200, Loss: 0.0127 Val loss:1.6940\n"
     ]
    },
    {
     "name": "stderr",
     "output_type": "stream",
     "text": [
      " 26%|█████████████████▋                                                  | 52/200 [00:02<00:05, 25.03it/s]"
     ]
    },
    {
     "name": "stdout",
     "output_type": "stream",
     "text": [
      "Epoch 48/200, Loss: 0.0135 Val loss:2.2179\n",
      "Epoch 49/200, Loss: 0.0161 Val loss:1.5500\n",
      "Epoch 50/200, Loss: 0.0256 Val loss:2.4704\n",
      "Epoch 51/200, Loss: 0.0279 Val loss:1.4784\n",
      "Epoch 52/200, Loss: 0.0224 Val loss:2.2639\n",
      "Epoch 53/200, Loss: 0.0123 Val loss:1.6826\n"
     ]
    },
    {
     "name": "stderr",
     "output_type": "stream",
     "text": [
      " 29%|███████████████████▋                                                | 58/200 [00:02<00:05, 26.04it/s]"
     ]
    },
    {
     "name": "stdout",
     "output_type": "stream",
     "text": [
      "Epoch 54/200, Loss: 0.0128 Val loss:2.2036\n",
      "Epoch 55/200, Loss: 0.0157 Val loss:1.4490\n",
      "Epoch 56/200, Loss: 0.0382 Val loss:2.5992\n",
      "Epoch 57/200, Loss: 0.0370 Val loss:1.4507\n",
      "Epoch 58/200, Loss: 0.0260 Val loss:2.2024\n",
      "Epoch 59/200, Loss: 0.0100 Val loss:1.8755\n"
     ]
    },
    {
     "name": "stderr",
     "output_type": "stream",
     "text": [
      " 32%|█████████████████████▊                                              | 64/200 [00:02<00:05, 23.36it/s]"
     ]
    },
    {
     "name": "stdout",
     "output_type": "stream",
     "text": [
      "Epoch 60/200, Loss: 0.0115 Val loss:1.8653\n",
      "Epoch 61/200, Loss: 0.0099 Val loss:1.8647\n",
      "Epoch 62/200, Loss: 0.0102 Val loss:2.0429\n",
      "Epoch 63/200, Loss: 0.0138 Val loss:1.6313\n",
      "Epoch 64/200, Loss: 0.0171 Val loss:2.2234\n"
     ]
    },
    {
     "name": "stderr",
     "output_type": "stream",
     "text": [
      " 35%|███████████████████████▊                                            | 70/200 [00:02<00:05, 25.42it/s]"
     ]
    },
    {
     "name": "stdout",
     "output_type": "stream",
     "text": [
      "Epoch 65/200, Loss: 0.0157 Val loss:1.6556\n",
      "Epoch 66/200, Loss: 0.0117 Val loss:2.0426\n",
      "Epoch 67/200, Loss: 0.0102 Val loss:1.8282\n",
      "Epoch 68/200, Loss: 0.0099 Val loss:1.9316\n",
      "Epoch 69/200, Loss: 0.0099 Val loss:1.8314\n",
      "Epoch 70/200, Loss: 0.0101 Val loss:1.9968\n"
     ]
    },
    {
     "name": "stderr",
     "output_type": "stream",
     "text": [
      " 38%|█████████████████████████▊                                          | 76/200 [00:03<00:04, 26.04it/s]"
     ]
    },
    {
     "name": "stdout",
     "output_type": "stream",
     "text": [
      "Epoch 71/200, Loss: 0.0112 Val loss:1.7241\n",
      "Epoch 72/200, Loss: 0.0123 Val loss:2.0947\n",
      "Epoch 73/200, Loss: 0.0125 Val loss:1.7123\n",
      "Epoch 74/200, Loss: 0.0110 Val loss:2.0083\n",
      "Epoch 75/200, Loss: 0.0100 Val loss:1.8181\n",
      "Epoch 76/200, Loss: 0.0099 Val loss:1.9444\n"
     ]
    },
    {
     "name": "stderr",
     "output_type": "stream",
     "text": [
      " 40%|██████████████████████████▊                                         | 79/200 [00:03<00:04, 25.02it/s]"
     ]
    },
    {
     "name": "stdout",
     "output_type": "stream",
     "text": [
      "Epoch 77/200, Loss: 0.0100 Val loss:1.7459\n",
      "Epoch 78/200, Loss: 0.0122 Val loss:2.1704\n",
      "Epoch 79/200, Loss: 0.0182 Val loss:1.5442\n",
      "Epoch 80/200, Loss: 0.0215 Val loss:2.2781\n",
      "Epoch 81/200, Loss: 0.0137 Val loss:1.6999\n"
     ]
    },
    {
     "name": "stderr",
     "output_type": "stream",
     "text": [
      " 42%|████████████████████████████▉                                       | 85/200 [00:03<00:04, 24.57it/s]"
     ]
    },
    {
     "name": "stdout",
     "output_type": "stream",
     "text": [
      "Epoch 82/200, Loss: 0.0101 Val loss:1.9259\n",
      "Epoch 83/200, Loss: 0.0104 Val loss:1.8307\n",
      "Epoch 84/200, Loss: 0.0102 Val loss:2.1405\n",
      "Epoch 85/200, Loss: 0.0205 Val loss:1.3741\n",
      "Epoch 86/200, Loss: 0.0500 Val loss:2.7149\n",
      "Epoch 87/200, Loss: 0.0421 Val loss:1.3739\n"
     ]
    },
    {
     "name": "stderr",
     "output_type": "stream",
     "text": [
      " 46%|██████████████████████████████▉                                     | 91/200 [00:03<00:04, 25.71it/s]"
     ]
    },
    {
     "name": "stdout",
     "output_type": "stream",
     "text": [
      "Epoch 88/200, Loss: 0.0237 Val loss:2.2575\n",
      "Epoch 89/200, Loss: 0.0114 Val loss:1.5716\n",
      "Epoch 90/200, Loss: 0.0136 Val loss:2.2273\n",
      "Epoch 91/200, Loss: 0.0212 Val loss:1.4199\n",
      "Epoch 92/200, Loss: 0.0277 Val loss:2.3625\n",
      "Epoch 93/200, Loss: 0.0187 Val loss:1.5481\n"
     ]
    },
    {
     "name": "stderr",
     "output_type": "stream",
     "text": [
      " 48%|████████████████████████████████▉                                   | 97/200 [00:04<00:04, 25.61it/s]"
     ]
    },
    {
     "name": "stdout",
     "output_type": "stream",
     "text": [
      "Epoch 94/200, Loss: 0.0152 Val loss:2.1301\n",
      "Epoch 95/200, Loss: 0.0116 Val loss:1.7286\n",
      "Epoch 96/200, Loss: 0.0104 Val loss:1.9544\n",
      "Epoch 97/200, Loss: 0.0101 Val loss:1.8297\n",
      "Epoch 98/200, Loss: 0.0098 Val loss:1.8711\n",
      "Epoch 99/200, Loss: 0.0098 Val loss:1.8730\n"
     ]
    },
    {
     "name": "stderr",
     "output_type": "stream",
     "text": [
      " 52%|██████████████████████████████████▌                                | 103/200 [00:04<00:03, 26.39it/s]"
     ]
    },
    {
     "name": "stdout",
     "output_type": "stream",
     "text": [
      "Epoch 100/200, Loss: 0.0099 Val loss:1.8456\n",
      "Epoch 101/200, Loss: 0.0098 Val loss:1.8771\n",
      "Epoch 102/200, Loss: 0.0098 Val loss:1.8546\n",
      "Epoch 103/200, Loss: 0.0098 Val loss:1.8542\n",
      "Epoch 104/200, Loss: 0.0098 Val loss:1.8774\n",
      "Epoch 105/200, Loss: 0.0099 Val loss:1.8360\n"
     ]
    },
    {
     "name": "stderr",
     "output_type": "stream",
     "text": [
      " 55%|████████████████████████████████████▌                              | 109/200 [00:04<00:03, 27.35it/s]"
     ]
    },
    {
     "name": "stdout",
     "output_type": "stream",
     "text": [
      "Epoch 106/200, Loss: 0.0098 Val loss:1.8751\n",
      "Epoch 107/200, Loss: 0.0098 Val loss:1.8561\n",
      "Epoch 108/200, Loss: 0.0098 Val loss:1.8397\n",
      "Epoch 109/200, Loss: 0.0098 Val loss:1.8828\n",
      "Epoch 110/200, Loss: 0.0099 Val loss:1.8400\n",
      "Epoch 111/200, Loss: 0.0098 Val loss:1.8366\n"
     ]
    },
    {
     "name": "stderr",
     "output_type": "stream",
     "text": [
      " 57%|██████████████████████████████████████▌                            | 115/200 [00:04<00:03, 27.90it/s]"
     ]
    },
    {
     "name": "stdout",
     "output_type": "stream",
     "text": [
      "Epoch 112/200, Loss: 0.0099 Val loss:1.9195\n",
      "Epoch 113/200, Loss: 0.0104 Val loss:1.7670\n",
      "Epoch 114/200, Loss: 0.0103 Val loss:1.9302\n",
      "Epoch 115/200, Loss: 0.0098 Val loss:1.8550\n",
      "Epoch 116/200, Loss: 0.0103 Val loss:1.7705\n",
      "Epoch 117/200, Loss: 0.0114 Val loss:1.9704\n"
     ]
    },
    {
     "name": "stderr",
     "output_type": "stream",
     "text": [
      " 60%|████████████████████████████████████████▌                          | 121/200 [00:04<00:02, 28.24it/s]"
     ]
    },
    {
     "name": "stdout",
     "output_type": "stream",
     "text": [
      "Epoch 118/200, Loss: 0.0107 Val loss:1.8484\n",
      "Epoch 119/200, Loss: 0.0104 Val loss:1.6413\n",
      "Epoch 120/200, Loss: 0.0210 Val loss:2.3933\n",
      "Epoch 121/200, Loss: 0.0308 Val loss:1.4532\n",
      "Epoch 122/200, Loss: 0.0232 Val loss:2.2003\n",
      "Epoch 123/200, Loss: 0.0099 Val loss:1.8397\n"
     ]
    },
    {
     "name": "stderr",
     "output_type": "stream",
     "text": [
      " 64%|██████████████████████████████████████████▌                        | 127/200 [00:05<00:02, 28.34it/s]"
     ]
    },
    {
     "name": "stdout",
     "output_type": "stream",
     "text": [
      "Epoch 124/200, Loss: 0.0122 Val loss:1.7608\n",
      "Epoch 125/200, Loss: 0.0102 Val loss:1.7470\n",
      "Epoch 126/200, Loss: 0.0106 Val loss:2.1459\n",
      "Epoch 127/200, Loss: 0.0222 Val loss:1.3189\n",
      "Epoch 128/200, Loss: 0.0400 Val loss:2.6602\n",
      "Epoch 129/200, Loss: 0.0293 Val loss:1.2832\n",
      "Epoch 130/200, Loss: 0.0235 "
     ]
    },
    {
     "name": "stderr",
     "output_type": "stream",
     "text": [
      " 67%|████████████████████████████████████████████▉                      | 134/200 [00:05<00:02, 28.41it/s]"
     ]
    },
    {
     "name": "stdout",
     "output_type": "stream",
     "text": [
      "Val loss:2.3133\n",
      "Epoch 131/200, Loss: 0.0159 Val loss:1.3149\n",
      "Epoch 132/200, Loss: 0.0286 Val loss:2.1770\n",
      "Epoch 133/200, Loss: 0.0160 Val loss:1.5912\n",
      "Epoch 134/200, Loss: 0.0166 Val loss:2.0652\n",
      "Epoch 135/200, Loss: 0.0116 Val loss:1.7621\n"
     ]
    },
    {
     "name": "stderr",
     "output_type": "stream",
     "text": [
      " 70%|██████████████████████████████████████████████▉                    | 140/200 [00:05<00:02, 26.53it/s]"
     ]
    },
    {
     "name": "stdout",
     "output_type": "stream",
     "text": [
      "Epoch 136/200, Loss: 0.0098 Val loss:1.8478\n",
      "Epoch 137/200, Loss: 0.0098 Val loss:1.8726\n",
      "Epoch 138/200, Loss: 0.0099 Val loss:1.7981\n",
      "Epoch 139/200, Loss: 0.0099 Val loss:1.8901\n",
      "Epoch 140/200, Loss: 0.0099 Val loss:1.7940\n",
      "Epoch 141/200, Loss: 0.0099 "
     ]
    },
    {
     "name": "stderr",
     "output_type": "stream",
     "text": [
      " 73%|████████████████████████████████████████████████▉                  | 146/200 [00:05<00:02, 26.88it/s]"
     ]
    },
    {
     "name": "stdout",
     "output_type": "stream",
     "text": [
      "Val loss:1.8860\n",
      "Epoch 142/200, Loss: 0.0099 Val loss:1.7945\n",
      "Epoch 143/200, Loss: 0.0098 Val loss:1.8806\n",
      "Epoch 144/200, Loss: 0.0099 Val loss:1.7956\n",
      "Epoch 145/200, Loss: 0.0098 Val loss:1.8785\n",
      "Epoch 146/200, Loss: 0.0098 Val loss:1.7931\n"
     ]
    },
    {
     "name": "stderr",
     "output_type": "stream",
     "text": [
      " 76%|██████████████████████████████████████████████████▉                | 152/200 [00:06<00:01, 26.23it/s]"
     ]
    },
    {
     "name": "stdout",
     "output_type": "stream",
     "text": [
      "Epoch 147/200, Loss: 0.0098 Val loss:1.8808\n",
      "Epoch 148/200, Loss: 0.0099 Val loss:1.7870\n",
      "Epoch 149/200, Loss: 0.0098 Val loss:1.8872\n",
      "Epoch 150/200, Loss: 0.0099 Val loss:1.7775\n",
      "Epoch 151/200, Loss: 0.0099 Val loss:1.8986\n",
      "Epoch 152/200, Loss: 0.0099 Val loss:1.7646\n"
     ]
    },
    {
     "name": "stderr",
     "output_type": "stream",
     "text": [
      " 78%|███████████████████████████████████████████████████▉               | 155/200 [00:06<00:01, 25.26it/s]"
     ]
    },
    {
     "name": "stdout",
     "output_type": "stream",
     "text": [
      "Epoch 153/200, Loss: 0.0100 Val loss:1.9148\n",
      "Epoch 154/200, Loss: 0.0101 Val loss:1.7453\n",
      "Epoch 155/200, Loss: 0.0101 Val loss:1.9382\n",
      "Epoch 156/200, Loss: 0.0102 Val loss:1.7188\n",
      "Epoch 157/200, Loss: 0.0104 Val loss:1.9717\n"
     ]
    },
    {
     "name": "stderr",
     "output_type": "stream",
     "text": [
      " 80%|█████████████████████████████████████████████████████▉             | 161/200 [00:06<00:01, 24.60it/s]"
     ]
    },
    {
     "name": "stdout",
     "output_type": "stream",
     "text": [
      "Epoch 158/200, Loss: 0.0106 Val loss:1.6803\n",
      "Epoch 159/200, Loss: 0.0110 Val loss:2.0226\n",
      "Epoch 160/200, Loss: 0.0113 Val loss:1.6315\n",
      "Epoch 161/200, Loss: 0.0119 Val loss:2.0826\n",
      "Epoch 162/200, Loss: 0.0121 Val loss:1.5737\n",
      "Epoch 163/200, Loss: 0.0134 Val loss:2.1575\n"
     ]
    },
    {
     "name": "stderr",
     "output_type": "stream",
     "text": [
      " 84%|███████████████████████████████████████████████████████▉           | 167/200 [00:06<00:01, 24.45it/s]"
     ]
    },
    {
     "name": "stdout",
     "output_type": "stream",
     "text": [
      "Epoch 164/200, Loss: 0.0140 Val loss:1.4967\n",
      "Epoch 165/200, Loss: 0.0162 Val loss:2.2056\n",
      "Epoch 166/200, Loss: 0.0151 Val loss:1.4535\n",
      "Epoch 167/200, Loss: 0.0169 Val loss:2.1966\n",
      "Epoch 168/200, Loss: 0.0139 Val loss:1.4894\n"
     ]
    },
    {
     "name": "stderr",
     "output_type": "stream",
     "text": [
      " 86%|█████████████████████████████████████████████████████████▉         | 173/200 [00:06<00:01, 24.31it/s]"
     ]
    },
    {
     "name": "stdout",
     "output_type": "stream",
     "text": [
      "Epoch 169/200, Loss: 0.0157 Val loss:2.1430\n",
      "Epoch 170/200, Loss: 0.0129 Val loss:1.5544\n",
      "Epoch 171/200, Loss: 0.0137 Val loss:2.0660\n",
      "Epoch 172/200, Loss: 0.0111 Val loss:1.6535\n",
      "Epoch 173/200, Loss: 0.0106 Val loss:1.9586\n",
      "Epoch 174/200, Loss: 0.0100 "
     ]
    },
    {
     "name": "stderr",
     "output_type": "stream",
     "text": [
      " 88%|██████████████████████████████████████████████████████████▉        | 176/200 [00:07<00:01, 23.97it/s]"
     ]
    },
    {
     "name": "stdout",
     "output_type": "stream",
     "text": [
      "Val loss:1.7170\n",
      "Epoch 175/200, Loss: 0.0103 Val loss:1.9864\n",
      "Epoch 176/200, Loss: 0.0118 Val loss:1.6333\n",
      "Epoch 177/200, Loss: 0.0145 Val loss:2.0722\n",
      "Epoch 178/200, Loss: 0.0123 Val loss:1.7162\n"
     ]
    },
    {
     "name": "stderr",
     "output_type": "stream",
     "text": [
      " 91%|████████████████████████████████████████████████████████████▉      | 182/200 [00:07<00:00, 24.31it/s]"
     ]
    },
    {
     "name": "stdout",
     "output_type": "stream",
     "text": [
      "Epoch 179/200, Loss: 0.0098 Val loss:1.8005\n",
      "Epoch 180/200, Loss: 0.0123 Val loss:1.9801\n",
      "Epoch 181/200, Loss: 0.0156 Val loss:1.7133\n",
      "Epoch 182/200, Loss: 0.0107 Val loss:1.7244\n",
      "Epoch 183/200, Loss: 0.0159 Val loss:2.2218\n"
     ]
    },
    {
     "name": "stderr",
     "output_type": "stream",
     "text": [
      " 94%|██████████████████████████████████████████████████████████████▉    | 188/200 [00:07<00:00, 24.52it/s]"
     ]
    },
    {
     "name": "stdout",
     "output_type": "stream",
     "text": [
      "Epoch 184/200, Loss: 0.0289 Val loss:1.4020\n",
      "Epoch 185/200, Loss: 0.0283 Val loss:2.2140\n",
      "Epoch 186/200, Loss: 0.0112 Val loss:1.5856\n",
      "Epoch 187/200, Loss: 0.0101 Val loss:1.9718\n",
      "Epoch 188/200, Loss: 0.0129 Val loss:1.5697\n",
      "Epoch 189/200, Loss: 0.0128 Val loss:2.0777\n"
     ]
    },
    {
     "name": "stderr",
     "output_type": "stream",
     "text": [
      " 97%|████████████████████████████████████████████████████████████████▉  | 194/200 [00:07<00:00, 25.05it/s]"
     ]
    },
    {
     "name": "stdout",
     "output_type": "stream",
     "text": [
      "Epoch 190/200, Loss: 0.0126 Val loss:1.5164\n",
      "Epoch 191/200, Loss: 0.0145 Val loss:2.1023\n",
      "Epoch 192/200, Loss: 0.0127 Val loss:1.5216\n",
      "Epoch 193/200, Loss: 0.0133 Val loss:2.0628\n",
      "Epoch 194/200, Loss: 0.0122 Val loss:1.5526\n",
      "Epoch 195/200, Loss: 0.0127 Val loss:2.0404\n"
     ]
    },
    {
     "name": "stderr",
     "output_type": "stream",
     "text": [
      "100%|███████████████████████████████████████████████████████████████████| 200/200 [00:08<00:00, 24.89it/s]"
     ]
    },
    {
     "name": "stdout",
     "output_type": "stream",
     "text": [
      "Epoch 196/200, Loss: 0.0120 Val loss:1.5872\n",
      "Epoch 197/200, Loss: 0.0120 Val loss:1.9995\n",
      "Epoch 198/200, Loss: 0.0111 Val loss:1.6394\n",
      "Epoch 199/200, Loss: 0.0108 Val loss:1.9513\n",
      "Epoch 200/200, Loss: 0.0105 Val loss:1.6804\n"
     ]
    },
    {
     "name": "stderr",
     "output_type": "stream",
     "text": [
      "\n"
     ]
    },
    {
     "data": {
      "image/png": "[encoded data removed]",
      "text/plain": [
       "<Figure size 640x480 with 1 Axes>"
      ]
     },
     "metadata": {},
     "output_type": "display_data"
    }
   ],
   "source": [
    "# Initialize the model and the optimizer\n",
    "model_single = CNN_1D(n_features, lookback, layers =\"single\")\n",
    "model_single.set_device()\n",
    "criterion = nn.MSELoss() \n",
    "optimizer = optim.Adam(model_single.parameters(), lr=learning_rate)\n",
    "\n",
    "\n",
    "model_single.fit(train_dataloader1, test_dataloader1, num_epochs,\n",
    "                    criterion, optimizer, min_delta=1e-4, patience=200)"
   ]
  },
  {
   "cell_type": "code",
   "execution_count": 31,
   "id": "184951a6-909e-4153-bd4b-fc7864770f05",
   "metadata": {},
   "outputs": [
    {
     "name": "stdout",
     "output_type": "stream",
     "text": [
      "Test Loss: 1.6561, MSE: 17.1373, RMSE: 3.3766, MAE: 2.9087\n"
     ]
    },
    {
     "name": "stderr",
     "output_type": "stream",
     "text": [
      "/opt/homebrew/Caskroom/miniconda/base/envs/dfm2/lib/python3.11/site-packages/torch/nn/modules/loss.py:536: UserWarning: Using a target size (torch.Size([18])) that is different to the input size (torch.Size([18, 1])). This will likely lead to incorrect results due to broadcasting. Please ensure they have the same size.\n",
      "  return F.mse_loss(input, target, reduction=self.reduction)\n",
      "/opt/homebrew/Caskroom/miniconda/base/envs/dfm2/lib/python3.11/site-packages/torch/nn/modules/loss.py:536: UserWarning: Using a target size (torch.Size([18])) that is different to the input size (torch.Size([18, 1])). This will likely lead to incorrect results due to broadcasting. Please ensure they have the same size.\n",
      "  return F.mse_loss(input, target, reduction=self.reduction)\n",
      "/opt/homebrew/Caskroom/miniconda/base/envs/dfm2/lib/python3.11/site-packages/torch/nn/modules/loss.py:536: UserWarning: Using a target size (torch.Size([18])) that is different to the input size (torch.Size([18, 1])). This will likely lead to incorrect results due to broadcasting. Please ensure they have the same size.\n",
      "  return F.mse_loss(input, target, reduction=self.reduction)\n",
      "/opt/homebrew/Caskroom/miniconda/base/envs/dfm2/lib/python3.11/site-packages/torch/nn/modules/loss.py:536: UserWarning: Using a target size (torch.Size([2])) that is different to the input size (torch.Size([2, 1])). This will likely lead to incorrect results due to broadcasting. Please ensure they have the same size.\n",
      "  return F.mse_loss(input, target, reduction=self.reduction)\n"
     ]
    }
   ],
   "source": [
    "model_single.evaluate(test_dataloader1, criterion, y_scaler)"
   ]
  },
  {
   "cell_type": "code",
   "execution_count": 32,
   "id": "e7d9d415-db0b-48d7-b4cb-9c27a6728689",
   "metadata": {},
   "outputs": [
    {
     "name": "stdout",
     "output_type": "stream",
     "text": [
      "torch.device => mps\n"
     ]
    },
    {
     "name": "stderr",
     "output_type": "stream",
     "text": [
      "  0%|                                                                             | 0/200 [00:00<?, ?it/s]/opt/homebrew/Caskroom/miniconda/base/envs/dfm2/lib/python3.11/site-packages/torch/nn/modules/loss.py:536: UserWarning: Using a target size (torch.Size([32])) that is different to the input size (torch.Size([32, 1])). This will likely lead to incorrect results due to broadcasting. Please ensure they have the same size.\n",
      "  return F.mse_loss(input, target, reduction=self.reduction)\n",
      "/opt/homebrew/Caskroom/miniconda/base/envs/dfm2/lib/python3.11/site-packages/torch/nn/modules/loss.py:536: UserWarning: Using a target size (torch.Size([15])) that is different to the input size (torch.Size([15, 1])). This will likely lead to incorrect results due to broadcasting. Please ensure they have the same size.\n",
      "  return F.mse_loss(input, target, reduction=self.reduction)\n",
      "/opt/homebrew/Caskroom/miniconda/base/envs/dfm2/lib/python3.11/site-packages/torch/nn/modules/loss.py:536: UserWarning: Using a target size (torch.Size([18])) that is different to the input size (torch.Size([18, 1])). This will likely lead to incorrect results due to broadcasting. Please ensure they have the same size.\n",
      "  return F.mse_loss(input, target, reduction=self.reduction)\n",
      "  2%|█                                                                    | 3/200 [00:00<00:07, 27.05it/s]"
     ]
    },
    {
     "name": "stdout",
     "output_type": "stream",
     "text": [
      "Epoch 1/200, Loss: 0.0428 Val loss:2.5548\n",
      "Epoch 2/200, Loss: 0.0383 Val loss:1.9934\n",
      "Epoch 3/200, Loss: 0.0191 Val loss:1.5219\n",
      "Epoch 4/200, Loss: 0.0212 Val loss:1.5900\n",
      "Epoch 5/200, Loss: 0.0250 Val loss:2.0074\n"
     ]
    },
    {
     "name": "stderr",
     "output_type": "stream",
     "text": [
      "  3%|██                                                                   | 6/200 [00:00<00:07, 27.38it/s]"
     ]
    },
    {
     "name": "stdout",
     "output_type": "stream",
     "text": [
      "Epoch 6/200, Loss: 0.0251 Val loss:2.1201\n"
     ]
    },
    {
     "name": "stderr",
     "output_type": "stream",
     "text": [
      "  4%|███                                                                  | 9/200 [00:00<00:06, 27.32it/s]"
     ]
    },
    {
     "name": "stdout",
     "output_type": "stream",
     "text": [
      "Epoch 7/200, Loss: 0.0246 Val loss:2.1498\n",
      "Epoch 8/200, Loss: 0.0226 Val loss:2.4585\n",
      "Epoch 9/200, Loss: 0.0214 Val loss:2.4694\n",
      "Epoch 10/200, Loss: 0.0197 Val loss:2.7072\n",
      "Epoch 11/200, Loss: 0.0182 Val loss:2.6027\n"
     ]
    },
    {
     "name": "stderr",
     "output_type": "stream",
     "text": [
      "  6%|████                                                                | 12/200 [00:00<00:06, 27.53it/s]"
     ]
    },
    {
     "name": "stdout",
     "output_type": "stream",
     "text": [
      "Epoch 12/200, Loss: 0.0162 Val loss:2.7448\n"
     ]
    },
    {
     "name": "stderr",
     "output_type": "stream",
     "text": [
      "  8%|█████                                                               | 15/200 [00:00<00:06, 27.65it/s]"
     ]
    },
    {
     "name": "stdout",
     "output_type": "stream",
     "text": [
      "Epoch 13/200, Loss: 0.0153 Val loss:2.6168\n",
      "Epoch 14/200, Loss: 0.0136 Val loss:2.6728\n",
      "Epoch 15/200, Loss: 0.0132 Val loss:2.6782\n",
      "Epoch 16/200, Loss: 0.0127 Val loss:2.5727\n",
      "Epoch 17/200, Loss: 0.0123 Val loss:2.7221\n"
     ]
    },
    {
     "name": "stderr",
     "output_type": "stream",
     "text": [
      "  9%|██████                                                              | 18/200 [00:00<00:06, 26.56it/s]"
     ]
    },
    {
     "name": "stdout",
     "output_type": "stream",
     "text": [
      "Epoch 18/200, Loss: 0.0131 Val loss:2.6023\n"
     ]
    },
    {
     "name": "stderr",
     "output_type": "stream",
     "text": [
      " 10%|███████▏                                                            | 21/200 [00:00<00:06, 26.72it/s]"
     ]
    },
    {
     "name": "stdout",
     "output_type": "stream",
     "text": [
      "Epoch 19/200, Loss: 0.0115 Val loss:2.4462\n",
      "Epoch 20/200, Loss: 0.0137 Val loss:2.9732\n",
      "Epoch 21/200, Loss: 0.0222 Val loss:2.2528\n",
      "Epoch 22/200, Loss: 0.0135 Val loss:2.6227\n",
      "Epoch 23/200, Loss: 0.0131 Val loss:2.5538\n"
     ]
    },
    {
     "name": "stderr",
     "output_type": "stream",
     "text": [
      " 12%|████████▏                                                           | 24/200 [00:00<00:08, 21.15it/s]"
     ]
    },
    {
     "name": "stdout",
     "output_type": "stream",
     "text": [
      "Epoch 24/200, Loss: 0.0113 Val loss:2.1880\n",
      "Epoch 25/200, Loss: 0.0162 Val loss:3.1863\n",
      "Epoch 26/200, Loss: 0.0314 Val loss:1.8589\n"
     ]
    },
    {
     "name": "stderr",
     "output_type": "stream",
     "text": [
      " 14%|█████████▏                                                          | 27/200 [00:01<00:07, 22.42it/s]"
     ]
    },
    {
     "name": "stdout",
     "output_type": "stream",
     "text": [
      "Epoch 27/200, Loss: 0.0197 Val loss:3.1837\n",
      "Epoch 28/200, Loss: 0.0158 Val loss:1.8222\n",
      "Epoch 29/200, Loss: 0.0123 "
     ]
    },
    {
     "name": "stderr",
     "output_type": "stream",
     "text": [
      " 15%|██████████▏                                                         | 30/200 [00:01<00:07, 23.43it/s]"
     ]
    },
    {
     "name": "stdout",
     "output_type": "stream",
     "text": [
      "Val loss:2.8805\n",
      "Epoch 30/200, Loss: 0.0121 Val loss:1.9882\n",
      "Epoch 31/200, Loss: 0.0117 Val loss:2.3668\n",
      "Epoch 32/200, Loss: 0.0123 Val loss:2.5663\n"
     ]
    },
    {
     "name": "stderr",
     "output_type": "stream",
     "text": [
      " 16%|███████████▏                                                        | 33/200 [00:01<00:06, 24.86it/s]"
     ]
    },
    {
     "name": "stdout",
     "output_type": "stream",
     "text": [
      "Epoch 33/200, Loss: 0.0124 Val loss:2.3169\n",
      "Epoch 34/200, Loss: 0.0110 Val loss:2.5039\n"
     ]
    },
    {
     "name": "stderr",
     "output_type": "stream",
     "text": [
      " 18%|████████████▏                                                       | 36/200 [00:01<00:06, 24.31it/s]"
     ]
    },
    {
     "name": "stdout",
     "output_type": "stream",
     "text": [
      "Epoch 35/200, Loss: 0.0111 Val loss:2.4008\n",
      "Epoch 36/200, Loss: 0.0110 Val loss:2.4672\n",
      "Epoch 37/200, Loss: 0.0109 Val loss:2.4007\n",
      "Epoch 38/200, Loss: 0.0108 Val loss:2.4473\n"
     ]
    },
    {
     "name": "stderr",
     "output_type": "stream",
     "text": [
      " 20%|█████████████▎                                                      | 39/200 [00:01<00:06, 24.85it/s]"
     ]
    },
    {
     "name": "stdout",
     "output_type": "stream",
     "text": [
      "Epoch 39/200, Loss: 0.0108 Val loss:2.4100\n",
      "Epoch 40/200, Loss: 0.0106 Val loss:2.4387\n"
     ]
    },
    {
     "name": "stderr",
     "output_type": "stream",
     "text": [
      " 21%|██████████████▎                                                     | 42/200 [00:01<00:06, 24.78it/s]"
     ]
    },
    {
     "name": "stdout",
     "output_type": "stream",
     "text": [
      "Epoch 41/200, Loss: 0.0107 Val loss:2.4150\n",
      "Epoch 42/200, Loss: 0.0106 Val loss:2.4388\n",
      "Epoch 43/200, Loss: 0.0106 Val loss:2.4149\n"
     ]
    },
    {
     "name": "stderr",
     "output_type": "stream",
     "text": [
      " 22%|███████████████▎                                                    | 45/200 [00:01<00:06, 24.82it/s]"
     ]
    },
    {
     "name": "stdout",
     "output_type": "stream",
     "text": [
      "Epoch 44/200, Loss: 0.0105 Val loss:2.4369\n",
      "Epoch 45/200, Loss: 0.0105 Val loss:2.4182\n"
     ]
    },
    {
     "name": "stderr",
     "output_type": "stream",
     "text": [
      " 24%|████████████████▎                                                   | 48/200 [00:01<00:05, 25.47it/s]"
     ]
    },
    {
     "name": "stdout",
     "output_type": "stream",
     "text": [
      "Epoch 46/200, Loss: 0.0104 Val loss:2.4329\n",
      "Epoch 47/200, Loss: 0.0104 Val loss:2.4219\n",
      "Epoch 48/200, Loss: 0.0104 Val loss:2.4263\n",
      "Epoch 49/200, Loss: 0.0104 Val loss:2.4278\n"
     ]
    },
    {
     "name": "stderr",
     "output_type": "stream",
     "text": [
      " 26%|█████████████████▎                                                  | 51/200 [00:02<00:05, 26.03it/s]"
     ]
    },
    {
     "name": "stdout",
     "output_type": "stream",
     "text": [
      "Epoch 50/200, Loss: 0.0104 Val loss:2.4200\n",
      "Epoch 51/200, Loss: 0.0103 Val loss:2.4337\n"
     ]
    },
    {
     "name": "stderr",
     "output_type": "stream",
     "text": [
      " 27%|██████████████████▎                                                 | 54/200 [00:02<00:05, 26.87it/s]"
     ]
    },
    {
     "name": "stdout",
     "output_type": "stream",
     "text": [
      "Epoch 52/200, Loss: 0.0103 Val loss:2.4182\n",
      "Epoch 53/200, Loss: 0.0103 Val loss:2.4283\n",
      "Epoch 54/200, Loss: 0.0103 Val loss:2.4287\n",
      "Epoch 55/200, Loss: 0.0103 Val loss:2.4128\n"
     ]
    },
    {
     "name": "stderr",
     "output_type": "stream",
     "text": [
      " 28%|███████████████████▍                                                | 57/200 [00:02<00:05, 26.99it/s]"
     ]
    },
    {
     "name": "stdout",
     "output_type": "stream",
     "text": [
      "Epoch 56/200, Loss: 0.0103 Val loss:2.4447\n",
      "Epoch 57/200, Loss: 0.0103 Val loss:2.4052\n"
     ]
    },
    {
     "name": "stderr",
     "output_type": "stream",
     "text": [
      " 30%|████████████████████▍                                               | 60/200 [00:02<00:05, 27.25it/s]"
     ]
    },
    {
     "name": "stdout",
     "output_type": "stream",
     "text": [
      "Epoch 58/200, Loss: 0.0102 Val loss:2.4356\n",
      "Epoch 59/200, Loss: 0.0103 Val loss:2.4340\n",
      "Epoch 60/200, Loss: 0.0103 Val loss:2.3917\n",
      "Epoch 61/200, Loss: 0.0102 Val loss:2.4802\n"
     ]
    },
    {
     "name": "stderr",
     "output_type": "stream",
     "text": [
      " 32%|█████████████████████▍                                              | 63/200 [00:02<00:05, 27.32it/s]"
     ]
    },
    {
     "name": "stdout",
     "output_type": "stream",
     "text": [
      "Epoch 62/200, Loss: 0.0104 Val loss:2.3707\n",
      "Epoch 63/200, Loss: 0.0103 Val loss:2.4452\n"
     ]
    },
    {
     "name": "stderr",
     "output_type": "stream",
     "text": [
      " 33%|██████████████████████▍                                             | 66/200 [00:02<00:04, 26.99it/s]"
     ]
    },
    {
     "name": "stdout",
     "output_type": "stream",
     "text": [
      "Epoch 64/200, Loss: 0.0103 Val loss:2.4602\n",
      "Epoch 65/200, Loss: 0.0103 Val loss:2.3077\n",
      "Epoch 66/200, Loss: 0.0106 Val loss:2.5955\n",
      "Epoch 67/200, Loss: 0.0117 Val loss:2.2455\n"
     ]
    },
    {
     "name": "stderr",
     "output_type": "stream",
     "text": [
      " 34%|███████████████████████▍                                            | 69/200 [00:02<00:04, 27.47it/s]"
     ]
    },
    {
     "name": "stdout",
     "output_type": "stream",
     "text": [
      "Epoch 68/200, Loss: 0.0112 Val loss:2.5048\n",
      "Epoch 69/200, Loss: 0.0110 Val loss:2.4066\n"
     ]
    },
    {
     "name": "stderr",
     "output_type": "stream",
     "text": [
      " 36%|████████████████████████▍                                           | 72/200 [00:02<00:04, 27.33it/s]"
     ]
    },
    {
     "name": "stdout",
     "output_type": "stream",
     "text": [
      "Epoch 70/200, Loss: 0.0102 Val loss:2.2769\n",
      "Epoch 71/200, Loss: 0.0104 Val loss:2.7319\n",
      "Epoch 72/200, Loss: 0.0131 Val loss:1.9605\n",
      "Epoch 73/200, Loss: 0.0171 Val loss:2.9558\n",
      "Epoch 74/200, Loss: 0.0191 Val loss:1.9326\n"
     ]
    },
    {
     "name": "stderr",
     "output_type": "stream",
     "text": [
      " 39%|██████████████████████████▌                                         | 78/200 [00:03<00:04, 26.99it/s]"
     ]
    },
    {
     "name": "stdout",
     "output_type": "stream",
     "text": [
      "Epoch 75/200, Loss: 0.0161 Val loss:2.8421\n",
      "Epoch 76/200, Loss: 0.0128 Val loss:1.9816\n",
      "Epoch 77/200, Loss: 0.0119 Val loss:2.8774\n",
      "Epoch 78/200, Loss: 0.0115 Val loss:1.9194\n",
      "Epoch 79/200, Loss: 0.0109 Val loss:2.6235\n",
      "Epoch 80/200, Loss: 0.0109 Val loss:2.1221\n"
     ]
    },
    {
     "name": "stderr",
     "output_type": "stream",
     "text": [
      " 42%|████████████████████████████▉                                       | 85/200 [00:03<00:03, 28.80it/s]"
     ]
    },
    {
     "name": "stdout",
     "output_type": "stream",
     "text": [
      "Epoch 81/200, Loss: 0.0104 Val loss:2.3966\n",
      "Epoch 82/200, Loss: 0.0103 Val loss:2.3603\n",
      "Epoch 83/200, Loss: 0.0104 Val loss:2.3408\n",
      "Epoch 84/200, Loss: 0.0102 Val loss:2.3691\n",
      "Epoch 85/200, Loss: 0.0103 Val loss:2.3422\n",
      "Epoch 86/200, Loss: 0.0102 Val loss:2.3682\n",
      "Epoch 87/200, Loss: 0.0102 Val loss:2.3454\n"
     ]
    },
    {
     "name": "stderr",
     "output_type": "stream",
     "text": [
      " 46%|███████████████████████████████▎                                    | 92/200 [00:03<00:03, 29.70it/s]"
     ]
    },
    {
     "name": "stdout",
     "output_type": "stream",
     "text": [
      "Epoch 88/200, Loss: 0.0102 Val loss:2.3660\n",
      "Epoch 89/200, Loss: 0.0102 Val loss:2.3479\n",
      "Epoch 90/200, Loss: 0.0102 Val loss:2.3627\n",
      "Epoch 91/200, Loss: 0.0102 Val loss:2.3523\n",
      "Epoch 92/200, Loss: 0.0102 Val loss:2.3615\n",
      "Epoch 93/200, Loss: 0.0102 Val loss:2.3559\n"
     ]
    },
    {
     "name": "stderr",
     "output_type": "stream",
     "text": [
      " 48%|████████████████████████████████▎                                   | 95/200 [00:03<00:03, 29.33it/s]"
     ]
    },
    {
     "name": "stdout",
     "output_type": "stream",
     "text": [
      "Epoch 94/200, Loss: 0.0101 Val loss:2.3614\n",
      "Epoch 95/200, Loss: 0.0101 Val loss:2.3572\n",
      "Epoch 96/200, Loss: 0.0101 Val loss:2.3608\n",
      "Epoch 97/200, Loss: 0.0101 Val loss:2.3585\n"
     ]
    },
    {
     "name": "stderr",
     "output_type": "stream",
     "text": [
      " 49%|█████████████████████████████████▎                                  | 98/200 [00:03<00:04, 24.87it/s]"
     ]
    },
    {
     "name": "stdout",
     "output_type": "stream",
     "text": [
      "Epoch 98/200, Loss: 0.0101 Val loss:2.3608\n"
     ]
    },
    {
     "name": "stderr",
     "output_type": "stream",
     "text": [
      " 50%|█████████████████████████████████▊                                 | 101/200 [00:03<00:03, 26.02it/s]"
     ]
    },
    {
     "name": "stdout",
     "output_type": "stream",
     "text": [
      "Epoch 99/200, Loss: 0.0101 Val loss:2.3596\n",
      "Epoch 100/200, Loss: 0.0101 Val loss:2.3606\n",
      "Epoch 101/200, Loss: 0.0101 Val loss:2.3606\n",
      "Epoch 102/200, Loss: 0.0101 Val loss:2.3605\n",
      "Epoch 103/200, Loss: 0.0101 Val loss:2.3612\n"
     ]
    },
    {
     "name": "stderr",
     "output_type": "stream",
     "text": [
      " 52%|██████████████████████████████████▊                                | 104/200 [00:03<00:03, 27.03it/s]"
     ]
    },
    {
     "name": "stdout",
     "output_type": "stream",
     "text": [
      "Epoch 104/200, Loss: 0.0101 Val loss:2.3605\n",
      "Epoch 105/200, Loss: 0.0101 "
     ]
    },
    {
     "name": "stderr",
     "output_type": "stream",
     "text": [
      " 54%|████████████████████████████████████▏                              | 108/200 [00:04<00:03, 28.36it/s]"
     ]
    },
    {
     "name": "stdout",
     "output_type": "stream",
     "text": [
      "Val loss:2.3613\n",
      "Epoch 106/200, Loss: 0.0101 Val loss:2.3608\n",
      "Epoch 107/200, Loss: 0.0101 Val loss:2.3613\n",
      "Epoch 108/200, Loss: 0.0101 Val loss:2.3614\n",
      "Epoch 109/200, Loss: 0.0101 Val loss:2.3607\n",
      "Epoch 110/200, Loss: 0.0101 Val loss:2.3621\n",
      "Epoch 111/200, Loss: 0.0101 Val loss:2.3605\n"
     ]
    },
    {
     "name": "stderr",
     "output_type": "stream",
     "text": [
      " 57%|██████████████████████████████████████▌                            | 115/200 [00:04<00:02, 29.12it/s]"
     ]
    },
    {
     "name": "stdout",
     "output_type": "stream",
     "text": [
      "Epoch 112/200, Loss: 0.0101 Val loss:2.3627\n",
      "Epoch 113/200, Loss: 0.0101 Val loss:2.3604\n",
      "Epoch 114/200, Loss: 0.0101 Val loss:2.3628\n",
      "Epoch 115/200, Loss: 0.0101 Val loss:2.3607\n",
      "Epoch 116/200, Loss: 0.0101 Val loss:2.3619\n",
      "Epoch 117/200, Loss: 0.0101 Val loss:2.3625\n",
      "Epoch 118/200, Loss: 0.0101 "
     ]
    },
    {
     "name": "stderr",
     "output_type": "stream",
     "text": [
      " 62%|█████████████████████████████████████████▏                         | 123/200 [00:04<00:02, 30.14it/s]"
     ]
    },
    {
     "name": "stdout",
     "output_type": "stream",
     "text": [
      "Val loss:2.3596\n",
      "Epoch 119/200, Loss: 0.0101 Val loss:2.3657\n",
      "Epoch 120/200, Loss: 0.0101 Val loss:2.3562\n",
      "Epoch 121/200, Loss: 0.0101 Val loss:2.3686\n",
      "Epoch 122/200, Loss: 0.0101 Val loss:2.3540\n",
      "Epoch 123/200, Loss: 0.0101 Val loss:2.3682\n",
      "Epoch 124/200, Loss: 0.0101 Val loss:2.3576\n"
     ]
    },
    {
     "name": "stderr",
     "output_type": "stream",
     "text": [
      " 64%|██████████████████████████████████████████▌                        | 127/200 [00:04<00:02, 31.12it/s]"
     ]
    },
    {
     "name": "stdout",
     "output_type": "stream",
     "text": [
      "Epoch 125/200, Loss: 0.0101 Val loss:2.3599\n",
      "Epoch 126/200, Loss: 0.0101 Val loss:2.3725\n",
      "Epoch 127/200, Loss: 0.0101 Val loss:2.3375\n",
      "Epoch 128/200, Loss: 0.0101 Val loss:2.4012\n",
      "Epoch 129/200, Loss: 0.0101 Val loss:2.3039\n",
      "Epoch 130/200, Loss: 0.0102 Val loss:2.4301\n"
     ]
    },
    {
     "name": "stderr",
     "output_type": "stream",
     "text": [
      " 66%|███████████████████████████████████████████▉                       | 131/200 [00:04<00:02, 30.91it/s]"
     ]
    },
    {
     "name": "stdout",
     "output_type": "stream",
     "text": [
      "Epoch 131/200, Loss: 0.0103 Val loss:2.2892\n"
     ]
    },
    {
     "name": "stderr",
     "output_type": "stream",
     "text": [
      " 68%|█████████████████████████████████████████████▏                     | 135/200 [00:04<00:02, 32.32it/s]"
     ]
    },
    {
     "name": "stdout",
     "output_type": "stream",
     "text": [
      "Epoch 132/200, Loss: 0.0103 Val loss:2.4104\n",
      "Epoch 133/200, Loss: 0.0104 Val loss:2.3543\n",
      "Epoch 134/200, Loss: 0.0102 Val loss:2.2848\n",
      "Epoch 135/200, Loss: 0.0101 Val loss:2.5502\n",
      "Epoch 136/200, Loss: 0.0104 Val loss:2.0376\n",
      "Epoch 137/200, Loss: 0.0118 Val loss:2.7884\n",
      "Epoch 138/200, Loss: 0.0157 Val loss:1.8994\n"
     ]
    },
    {
     "name": "stderr",
     "output_type": "stream",
     "text": [
      " 72%|███████████████████████████████████████████████▉                   | 143/200 [00:05<00:01, 30.06it/s]"
     ]
    },
    {
     "name": "stdout",
     "output_type": "stream",
     "text": [
      "Epoch 139/200, Loss: 0.0185 Val loss:2.6477\n",
      "Epoch 140/200, Loss: 0.0174 Val loss:2.1711\n",
      "Epoch 141/200, Loss: 0.0159 Val loss:2.4811\n",
      "Epoch 142/200, Loss: 0.0108 Val loss:2.3522\n",
      "Epoch 143/200, Loss: 0.0102 Val loss:2.4860\n",
      "Epoch 144/200, Loss: 0.0102 Val loss:2.3072\n"
     ]
    },
    {
     "name": "stderr",
     "output_type": "stream",
     "text": [
      " 74%|█████████████████████████████████████████████████▏                 | 147/200 [00:05<00:01, 29.60it/s]"
     ]
    },
    {
     "name": "stdout",
     "output_type": "stream",
     "text": [
      "Epoch 145/200, Loss: 0.0101 Val loss:2.6085\n",
      "Epoch 146/200, Loss: 0.0104 Val loss:2.1685\n",
      "Epoch 147/200, Loss: 0.0107 Val loss:2.7298\n",
      "Epoch 148/200, Loss: 0.0113 Val loss:2.0449\n",
      "Epoch 149/200, Loss: 0.0115 Val loss:2.7467\n"
     ]
    },
    {
     "name": "stderr",
     "output_type": "stream",
     "text": [
      " 75%|██████████████████████████████████████████████████▎                | 150/200 [00:05<00:01, 29.33it/s]"
     ]
    },
    {
     "name": "stdout",
     "output_type": "stream",
     "text": [
      "Epoch 150/200, Loss: 0.0114 Val loss:2.0249\n"
     ]
    },
    {
     "name": "stderr",
     "output_type": "stream",
     "text": [
      " 77%|███████████████████████████████████████████████████▌               | 154/200 [00:05<00:01, 30.38it/s]"
     ]
    },
    {
     "name": "stdout",
     "output_type": "stream",
     "text": [
      "Epoch 151/200, Loss: 0.0116 Val loss:2.6595\n",
      "Epoch 152/200, Loss: 0.0107 Val loss:2.1388\n",
      "Epoch 153/200, Loss: 0.0105 Val loss:2.5435\n",
      "Epoch 154/200, Loss: 0.0102 Val loss:2.2590\n",
      "Epoch 155/200, Loss: 0.0101 Val loss:2.4565\n",
      "Epoch 156/200, Loss: 0.0101 Val loss:2.3479\n",
      "Epoch 157/200, Loss: 0.0101 Val loss:2.4135\n"
     ]
    },
    {
     "name": "stderr",
     "output_type": "stream",
     "text": [
      " 80%|█████████████████████████████████████████████████████▉             | 161/200 [00:05<00:01, 28.95it/s]"
     ]
    },
    {
     "name": "stdout",
     "output_type": "stream",
     "text": [
      "Epoch 158/200, Loss: 0.0101 Val loss:2.3841\n",
      "Epoch 159/200, Loss: 0.0101 Val loss:2.3990\n",
      "Epoch 160/200, Loss: 0.0101 Val loss:2.3939\n",
      "Epoch 161/200, Loss: 0.0101 Val loss:2.3974\n",
      "Epoch 162/200, Loss: 0.0101 Val loss:2.3966\n",
      "Epoch 163/200, Loss: 0.0101 Val loss:2.3974\n"
     ]
    },
    {
     "name": "stderr",
     "output_type": "stream",
     "text": [
      " 84%|███████████████████████████████████████████████████████▉           | 167/200 [00:06<00:01, 28.54it/s]"
     ]
    },
    {
     "name": "stdout",
     "output_type": "stream",
     "text": [
      "Epoch 164/200, Loss: 0.0101 Val loss:2.3972\n",
      "Epoch 165/200, Loss: 0.0101 Val loss:2.3977\n",
      "Epoch 166/200, Loss: 0.0101 Val loss:2.3976\n",
      "Epoch 167/200, Loss: 0.0101 Val loss:2.3980\n",
      "Epoch 168/200, Loss: 0.0101 Val loss:2.3978\n",
      "Epoch 169/200, Loss: 0.0101 Val loss:2.3982\n",
      "Epoch 170/200, Loss: 0.0101 Val loss:2.3980\n"
     ]
    },
    {
     "name": "stderr",
     "output_type": "stream",
     "text": [
      " 88%|██████████████████████████████████████████████████████████▋        | 175/200 [00:06<00:00, 30.17it/s]"
     ]
    },
    {
     "name": "stdout",
     "output_type": "stream",
     "text": [
      "Epoch 171/200, Loss: 0.0101 Val loss:2.3983\n",
      "Epoch 172/200, Loss: 0.0101 Val loss:2.3979\n",
      "Epoch 173/200, Loss: 0.0101 Val loss:2.3982\n",
      "Epoch 174/200, Loss: 0.0101 Val loss:2.3978\n",
      "Epoch 175/200, Loss: 0.0101 Val loss:2.3980\n",
      "Epoch 176/200, Loss: 0.0101 Val loss:2.3979\n"
     ]
    },
    {
     "name": "stderr",
     "output_type": "stream",
     "text": [
      " 90%|███████████████████████████████████████████████████████████▉       | 179/200 [00:06<00:00, 30.53it/s]"
     ]
    },
    {
     "name": "stdout",
     "output_type": "stream",
     "text": [
      "Epoch 177/200, Loss: 0.0101 Val loss:2.3980\n",
      "Epoch 178/200, Loss: 0.0101 Val loss:2.3979\n",
      "Epoch 179/200, Loss: 0.0101 Val loss:2.3979\n",
      "Epoch 180/200, Loss: 0.0101 Val loss:2.3978\n",
      "Epoch 181/200, Loss: 0.0101 Val loss:2.3977\n",
      "Epoch 182/200, Loss: 0.0101 Val loss:2.3977\n"
     ]
    },
    {
     "name": "stderr",
     "output_type": "stream",
     "text": [
      " 92%|█████████████████████████████████████████████████████████████▎     | 183/200 [00:06<00:00, 30.48it/s]"
     ]
    },
    {
     "name": "stdout",
     "output_type": "stream",
     "text": [
      "Epoch 183/200, Loss: 0.0101 Val loss:2.3975\n"
     ]
    },
    {
     "name": "stderr",
     "output_type": "stream",
     "text": [
      " 94%|██████████████████████████████████████████████████████████████▋    | 187/200 [00:06<00:00, 30.12it/s]"
     ]
    },
    {
     "name": "stdout",
     "output_type": "stream",
     "text": [
      "Epoch 184/200, Loss: 0.0101 Val loss:2.3976\n",
      "Epoch 185/200, Loss: 0.0101 Val loss:2.3973\n",
      "Epoch 186/200, Loss: 0.0101 Val loss:2.3975\n",
      "Epoch 187/200, Loss: 0.0101 Val loss:2.3972\n",
      "Epoch 188/200, Loss: 0.0101 Val loss:2.3972\n",
      "Epoch 189/200, Loss: 0.0101 Val loss:2.3972\n",
      "Epoch 190/200, Loss: 0.0101 Val loss:2.3968\n"
     ]
    },
    {
     "name": "stderr",
     "output_type": "stream",
     "text": [
      " 98%|█████████████████████████████████████████████████████████████████▎ | 195/200 [00:06<00:00, 30.38it/s]"
     ]
    },
    {
     "name": "stdout",
     "output_type": "stream",
     "text": [
      "Epoch 191/200, Loss: 0.0101 Val loss:2.3972\n",
      "Epoch 192/200, Loss: 0.0101 Val loss:2.3964\n",
      "Epoch 193/200, Loss: 0.0101 Val loss:2.3973\n",
      "Epoch 194/200, Loss: 0.0101 Val loss:2.3960\n",
      "Epoch 195/200, Loss: 0.0101 Val loss:2.3973\n",
      "Epoch 196/200, Loss: 0.0101 Val loss:2.3956\n",
      "Epoch 197/200, Loss: 0.0101 Val loss:2.3971\n"
     ]
    },
    {
     "name": "stderr",
     "output_type": "stream",
     "text": [
      "100%|███████████████████████████████████████████████████████████████████| 200/200 [00:07<00:00, 28.15it/s]\n"
     ]
    },
    {
     "name": "stdout",
     "output_type": "stream",
     "text": [
      "Epoch 198/200, Loss: 0.0101 Val loss:2.3957\n",
      "Epoch 199/200, Loss: 0.0101 Val loss:2.3964\n",
      "Epoch 200/200, Loss: 0.0101 Val loss:2.3964\n"
     ]
    },
    {
     "data": {
      "image/png": "[encoded data removed]",
      "text/plain": [
       "<Figure size 640x480 with 1 Axes>"
      ]
     },
     "metadata": {},
     "output_type": "display_data"
    }
   ],
   "source": [
    "batch_size=32\n",
    "\n",
    "# train and test dataloaders for lookback=6, lookahead=1\n",
    "lookback=12\n",
    "lookahead=1\n",
    "learning_rate = 0.001\n",
    "n_features = 15\n",
    "num_epochs = 200\n",
    "\n",
    "train_dataloader2 = WindowGenerator(X_train, y_train,\n",
    "                                  lookback=lookback,\n",
    "                                  lookahead=lookahead,\n",
    "                                  batch_size=batch_size).make_dataloader()\n",
    "\n",
    "test_dataloader2 = WindowGenerator(X_test, y_test,\n",
    "                                 lookback=lookback,\n",
    "                                 lookahead=lookahead,\n",
    "                                 batch_size=batch_size).make_dataloader()\n",
    "\n",
    "# Initialize the model and the optimizer\n",
    "model_single2 = CNN_1D(n_features, lookback, layers =\"single\")\n",
    "model_single2.set_device()\n",
    "criterion = nn.MSELoss() \n",
    "optimizer = optim.Adam(model_single2.parameters(), lr=learning_rate)\n",
    "\n",
    "\n",
    "model_single2.fit(train_dataloader2, test_dataloader2, num_epochs,\n",
    "                    criterion, optimizer, min_delta=1e-4, patience=200)"
   ]
  },
  {
   "cell_type": "code",
   "execution_count": 41,
   "id": "e50245a5-6baa-4067-a734-57b42dac86a8",
   "metadata": {},
   "outputs": [
    {
     "name": "stdout",
     "output_type": "stream",
     "text": [
      "what is y_batch <class 'torch.Tensor'>, torch.Size([32])\n",
      "what is y_pred <class 'torch.Tensor'>, torch.Size([32, 1])\n",
      "what is y_batch <class 'torch.Tensor'>, torch.Size([18])\n",
      "what is y_pred <class 'torch.Tensor'>, torch.Size([18, 1])\n",
      "Test Loss: 2.6331, MSE: 45.3221, RMSE: 6.6617, MAE: 5.7382\n"
     ]
    },
    {
     "name": "stderr",
     "output_type": "stream",
     "text": [
      "/opt/homebrew/Caskroom/miniconda/base/envs/dfm2/lib/python3.11/site-packages/torch/nn/modules/loss.py:536: UserWarning: Using a target size (torch.Size([32])) that is different to the input size (torch.Size([32, 1])). This will likely lead to incorrect results due to broadcasting. Please ensure they have the same size.\n",
      "  return F.mse_loss(input, target, reduction=self.reduction)\n",
      "/opt/homebrew/Caskroom/miniconda/base/envs/dfm2/lib/python3.11/site-packages/torch/nn/modules/loss.py:536: UserWarning: Using a target size (torch.Size([18])) that is different to the input size (torch.Size([18, 1])). This will likely lead to incorrect results due to broadcasting. Please ensure they have the same size.\n",
      "  return F.mse_loss(input, target, reduction=self.reduction)\n"
     ]
    }
   ],
   "source": [
    "model_single2.evaluate(test_dataloader2, criterion, y_scaler)"
   ]
  },
  {
   "cell_type": "code",
   "execution_count": 148,
   "id": "8b08d650-eadf-4eb6-8e74-e95c2670099d",
   "metadata": {},
   "outputs": [
    {
     "name": "stdout",
     "output_type": "stream",
     "text": [
      "torch.device => mps\n"
     ]
    },
    {
     "name": "stderr",
     "output_type": "stream",
     "text": [
      "  0%|                                                                       | 0/200 [00:00<?, ?it/s]/opt/homebrew/Caskroom/miniconda/base/envs/dfm2/lib/python3.11/site-packages/torch/nn/modules/loss.py:536: UserWarning: Using a target size (torch.Size([32])) that is different to the input size (torch.Size([32, 1])). This will likely lead to incorrect results due to broadcasting. Please ensure they have the same size.\n",
      "  return F.mse_loss(input, target, reduction=self.reduction)\n",
      "/opt/homebrew/Caskroom/miniconda/base/envs/dfm2/lib/python3.11/site-packages/torch/nn/modules/loss.py:536: UserWarning: Using a target size (torch.Size([15])) that is different to the input size (torch.Size([15, 1])). This will likely lead to incorrect results due to broadcasting. Please ensure they have the same size.\n",
      "  return F.mse_loss(input, target, reduction=self.reduction)\n",
      "/opt/homebrew/Caskroom/miniconda/base/envs/dfm2/lib/python3.11/site-packages/torch/nn/modules/loss.py:536: UserWarning: Using a target size (torch.Size([18])) that is different to the input size (torch.Size([18, 1])). This will likely lead to incorrect results due to broadcasting. Please ensure they have the same size.\n",
      "  return F.mse_loss(input, target, reduction=self.reduction)\n",
      "  1%|▋                                                              | 2/200 [00:00<00:10, 19.26it/s]"
     ]
    },
    {
     "name": "stdout",
     "output_type": "stream",
     "text": [
      "Epoch 1/200, Loss: 0.0101 Val loss:2.3102\n",
      "Epoch 2/200, Loss: 0.0103 Val loss:2.1660\n",
      "Epoch 3/200, Loss: 0.0103 Val loss:2.3110\n",
      "Epoch 4/200, Loss: 0.0101 Val loss:2.2380\n"
     ]
    },
    {
     "name": "stderr",
     "output_type": "stream",
     "text": [
      "  3%|█▉                                                             | 6/200 [00:00<00:06, 27.98it/s]"
     ]
    },
    {
     "name": "stdout",
     "output_type": "stream",
     "text": [
      "Epoch 5/200, Loss: 0.0101 Val loss:2.2551\n",
      "Epoch 6/200, Loss: 0.0101 Val loss:2.2700\n",
      "Epoch 7/200, Loss: 0.0101 Val loss:2.2460\n",
      "Epoch 8/200, Loss: 0.0101 Val loss:2.2743\n",
      "Epoch 9/200, Loss: 0.0101 "
     ]
    },
    {
     "name": "stderr",
     "output_type": "stream",
     "text": [
      "  6%|███▋                                                          | 12/200 [00:00<00:08, 22.67it/s]"
     ]
    },
    {
     "name": "stdout",
     "output_type": "stream",
     "text": [
      "Val loss:2.2438\n",
      "Epoch 10/200, Loss: 0.0101 Val loss:2.2834\n",
      "Epoch 11/200, Loss: 0.0101 Val loss:2.2255\n",
      "Epoch 12/200, Loss: 0.0101 Val loss:2.3199\n"
     ]
    },
    {
     "name": "stderr",
     "output_type": "stream",
     "text": [
      "  8%|████▋                                                         | 15/200 [00:00<00:08, 22.59it/s]"
     ]
    },
    {
     "name": "stdout",
     "output_type": "stream",
     "text": [
      "Epoch 13/200, Loss: 0.0101 Val loss:2.1709\n",
      "Epoch 14/200, Loss: 0.0102 Val loss:2.3869\n",
      "Epoch 15/200, Loss: 0.0103 Val loss:2.1188\n",
      "Epoch 16/200, Loss: 0.0105 Val loss:2.3093\n",
      "Epoch 17/200, Loss: 0.0103 Val loss:2.2262\n"
     ]
    },
    {
     "name": "stderr",
     "output_type": "stream",
     "text": [
      " 10%|██████▌                                                       | 21/200 [00:00<00:08, 21.54it/s]"
     ]
    },
    {
     "name": "stdout",
     "output_type": "stream",
     "text": [
      "Epoch 18/200, Loss: 0.0104 Val loss:2.2321\n",
      "Epoch 19/200, Loss: 0.0102 Val loss:2.2589\n",
      "Epoch 20/200, Loss: 0.0102 Val loss:2.2359\n",
      "Epoch 21/200, Loss: 0.0101 Val loss:2.2578\n"
     ]
    },
    {
     "name": "stderr",
     "output_type": "stream",
     "text": [
      " 12%|███████▍                                                      | 24/200 [00:01<00:08, 20.02it/s]"
     ]
    },
    {
     "name": "stdout",
     "output_type": "stream",
     "text": [
      "Epoch 22/200, Loss: 0.0101 Val loss:2.2443\n",
      "Epoch 23/200, Loss: 0.0101 Val loss:2.2518\n",
      "Epoch 24/200, Loss: 0.0101 Val loss:2.2498\n",
      "Epoch 25/200, Loss: 0.0101 Val loss:2.2497\n",
      "Epoch 26/200, Loss: 0.0101 "
     ]
    },
    {
     "name": "stderr",
     "output_type": "stream",
     "text": [
      " 15%|█████████▎                                                    | 30/200 [00:01<00:07, 22.08it/s]"
     ]
    },
    {
     "name": "stdout",
     "output_type": "stream",
     "text": [
      "Val loss:2.2504\n",
      "Epoch 27/200, Loss: 0.0101 Val loss:2.2494\n",
      "Epoch 28/200, Loss: 0.0101 Val loss:2.2502\n",
      "Epoch 29/200, Loss: 0.0101 Val loss:2.2490\n",
      "Epoch 30/200, Loss: 0.0101 Val loss:2.2514\n"
     ]
    },
    {
     "name": "stderr",
     "output_type": "stream",
     "text": [
      " 16%|██████████▏                                                   | 33/200 [00:01<00:08, 20.80it/s]"
     ]
    },
    {
     "name": "stdout",
     "output_type": "stream",
     "text": [
      "Epoch 31/200, Loss: 0.0101 Val loss:2.2477\n",
      "Epoch 32/200, Loss: 0.0101 Val loss:2.2536\n",
      "Epoch 33/200, Loss: 0.0101 Val loss:2.2444\n",
      "Epoch 34/200, Loss: 0.0101 Val loss:2.2592\n",
      "Epoch 35/200, Loss: 0.0101 Val loss:2.2353\n"
     ]
    },
    {
     "name": "stderr",
     "output_type": "stream",
     "text": [
      " 20%|████████████                                                  | 39/200 [00:01<00:07, 22.65it/s]"
     ]
    },
    {
     "name": "stdout",
     "output_type": "stream",
     "text": [
      "Epoch 36/200, Loss: 0.0101 Val loss:2.2749\n",
      "Epoch 37/200, Loss: 0.0101 Val loss:2.2091\n",
      "Epoch 38/200, Loss: 0.0101 Val loss:2.3205\n",
      "Epoch 39/200, Loss: 0.0101 Val loss:2.1401\n",
      "Epoch 40/200, Loss: 0.0101 Val loss:2.4076\n",
      "Epoch 41/200, Loss: 0.0101 Val loss:2.0680\n"
     ]
    },
    {
     "name": "stderr",
     "output_type": "stream",
     "text": [
      " 22%|█████████████▉                                                | 45/200 [00:02<00:06, 24.13it/s]"
     ]
    },
    {
     "name": "stdout",
     "output_type": "stream",
     "text": [
      "Epoch 42/200, Loss: 0.0101 Val loss:2.3034\n",
      "Epoch 43/200, Loss: 0.0102 Val loss:2.2033\n",
      "Epoch 44/200, Loss: 0.0103 Val loss:2.1857\n",
      "Epoch 45/200, Loss: 0.0104 Val loss:2.2520\n"
     ]
    },
    {
     "name": "stderr",
     "output_type": "stream",
     "text": [
      " 24%|██████████████▉                                               | 48/200 [00:02<00:07, 20.43it/s]"
     ]
    },
    {
     "name": "stdout",
     "output_type": "stream",
     "text": [
      "Epoch 46/200, Loss: 0.0105 Val loss:2.1799\n",
      "Epoch 47/200, Loss: 0.0109 Val loss:2.2350\n",
      "Epoch 48/200, Loss: 0.0106 Val loss:2.2065\n",
      "Epoch 49/200, Loss: 0.0105 Val loss:2.2343\n"
     ]
    },
    {
     "name": "stderr",
     "output_type": "stream",
     "text": [
      " 27%|████████████████▋                                             | 54/200 [00:02<00:07, 20.76it/s]"
     ]
    },
    {
     "name": "stdout",
     "output_type": "stream",
     "text": [
      "Epoch 50/200, Loss: 0.0102 Val loss:2.2230\n",
      "Epoch 51/200, Loss: 0.0101 Val loss:2.2346\n",
      "Epoch 52/200, Loss: 0.0101 Val loss:2.2307\n",
      "Epoch 53/200, Loss: 0.0101 Val loss:2.2324\n",
      "Epoch 54/200, Loss: 0.0101 Val loss:2.2314\n"
     ]
    },
    {
     "name": "stderr",
     "output_type": "stream",
     "text": [
      " 28%|█████████████████▋                                            | 57/200 [00:02<00:06, 22.03it/s]"
     ]
    },
    {
     "name": "stdout",
     "output_type": "stream",
     "text": [
      "Epoch 55/200, Loss: 0.0101 Val loss:2.2327\n",
      "Epoch 56/200, Loss: 0.0101 Val loss:2.2312\n",
      "Epoch 57/200, Loss: 0.0101 Val loss:2.2318\n",
      "Epoch 58/200, Loss: 0.0101 Val loss:2.2313\n",
      "Epoch 59/200, Loss: 0.0101 Val loss:2.2317\n"
     ]
    },
    {
     "name": "stderr",
     "output_type": "stream",
     "text": [
      " 32%|███████████████████▌                                          | 63/200 [00:02<00:06, 21.13it/s]"
     ]
    },
    {
     "name": "stdout",
     "output_type": "stream",
     "text": [
      "Epoch 60/200, Loss: 0.0101 Val loss:2.2312\n",
      "Epoch 61/200, Loss: 0.0101 Val loss:2.2317\n",
      "Epoch 62/200, Loss: 0.0101 Val loss:2.2311\n",
      "Epoch 63/200, Loss: 0.0101 Val loss:2.2317\n"
     ]
    },
    {
     "name": "stderr",
     "output_type": "stream",
     "text": [
      " 34%|█████████████████████▍                                        | 69/200 [00:03<00:05, 22.05it/s]"
     ]
    },
    {
     "name": "stdout",
     "output_type": "stream",
     "text": [
      "Epoch 64/200, Loss: 0.0101 Val loss:2.2311\n",
      "Epoch 65/200, Loss: 0.0101 Val loss:2.2317\n",
      "Epoch 66/200, Loss: 0.0101 Val loss:2.2309\n",
      "Epoch 67/200, Loss: 0.0101 Val loss:2.2318\n",
      "Epoch 68/200, Loss: 0.0101 Val loss:2.2307\n",
      "Epoch 69/200, Loss: 0.0101 Val loss:2.2320\n"
     ]
    },
    {
     "name": "stderr",
     "output_type": "stream",
     "text": [
      " 36%|██████████████████████▎                                       | 72/200 [00:03<00:05, 22.67it/s]"
     ]
    },
    {
     "name": "stdout",
     "output_type": "stream",
     "text": [
      "Epoch 70/200, Loss: 0.0101 Val loss:2.2304\n",
      "Epoch 71/200, Loss: 0.0101 Val loss:2.2325\n",
      "Epoch 72/200, Loss: 0.0101 Val loss:2.2298\n",
      "Epoch 73/200, Loss: 0.0101 Val loss:2.2334\n",
      "Epoch 74/200, Loss: 0.0101 Val loss:2.2285\n"
     ]
    },
    {
     "name": "stderr",
     "output_type": "stream",
     "text": [
      " 39%|████████████████████████▏                                     | 78/200 [00:03<00:05, 22.18it/s]"
     ]
    },
    {
     "name": "stdout",
     "output_type": "stream",
     "text": [
      "Epoch 75/200, Loss: 0.0101 Val loss:2.2353\n",
      "Epoch 76/200, Loss: 0.0101 Val loss:2.2257\n",
      "Epoch 77/200, Loss: 0.0101 Val loss:2.2396\n",
      "Epoch 78/200, Loss: 0.0101 Val loss:2.2191\n",
      "Epoch 79/200, Loss: 0.0101 Val loss:2.2499\n"
     ]
    },
    {
     "name": "stderr",
     "output_type": "stream",
     "text": [
      " 42%|██████████████████████████                                    | 84/200 [00:03<00:04, 24.39it/s]"
     ]
    },
    {
     "name": "stdout",
     "output_type": "stream",
     "text": [
      "Epoch 80/200, Loss: 0.0101 Val loss:2.2032\n",
      "Epoch 81/200, Loss: 0.0101 Val loss:2.2754\n",
      "Epoch 82/200, Loss: 0.0101 Val loss:2.1649\n",
      "Epoch 83/200, Loss: 0.0101 Val loss:2.3351\n",
      "Epoch 84/200, Loss: 0.0101 Val loss:2.0864\n",
      "Epoch 85/200, Loss: 0.0102 Val loss:2.3967\n"
     ]
    },
    {
     "name": "stderr",
     "output_type": "stream",
     "text": [
      " 45%|███████████████████████████▉                                  | 90/200 [00:04<00:04, 24.58it/s]"
     ]
    },
    {
     "name": "stdout",
     "output_type": "stream",
     "text": [
      "Epoch 86/200, Loss: 0.0102 Val loss:2.0320\n",
      "Epoch 87/200, Loss: 0.0104 Val loss:2.2820\n",
      "Epoch 88/200, Loss: 0.0103 Val loss:2.1669\n",
      "Epoch 89/200, Loss: 0.0104 Val loss:2.1974\n",
      "Epoch 90/200, Loss: 0.0104 Val loss:2.2163\n"
     ]
    },
    {
     "name": "stderr",
     "output_type": "stream",
     "text": [
      " 48%|█████████████████████████████▊                                | 96/200 [00:04<00:04, 25.93it/s]"
     ]
    },
    {
     "name": "stdout",
     "output_type": "stream",
     "text": [
      "Epoch 91/200, Loss: 0.0106 Val loss:2.1952\n",
      "Epoch 92/200, Loss: 0.0105 Val loss:2.2143\n",
      "Epoch 93/200, Loss: 0.0106 Val loss:2.2177\n",
      "Epoch 94/200, Loss: 0.0103 Val loss:2.2151\n",
      "Epoch 95/200, Loss: 0.0102 Val loss:2.2266\n",
      "Epoch 96/200, Loss: 0.0101 Val loss:2.2172\n"
     ]
    },
    {
     "name": "stderr",
     "output_type": "stream",
     "text": [
      " 51%|███████████████████████████████                              | 102/200 [00:04<00:03, 26.87it/s]"
     ]
    },
    {
     "name": "stdout",
     "output_type": "stream",
     "text": [
      "Epoch 97/200, Loss: 0.0101 Val loss:2.2309\n",
      "Epoch 98/200, Loss: 0.0101 Val loss:2.2202\n",
      "Epoch 99/200, Loss: 0.0101 Val loss:2.2279\n",
      "Epoch 100/200, Loss: 0.0101 Val loss:2.2224\n",
      "Epoch 101/200, Loss: 0.0101 Val loss:2.2253\n",
      "Epoch 102/200, Loss: 0.0101 Val loss:2.2232\n"
     ]
    },
    {
     "name": "stderr",
     "output_type": "stream",
     "text": [
      " 52%|████████████████████████████████                             | 105/200 [00:04<00:03, 26.86it/s]"
     ]
    },
    {
     "name": "stdout",
     "output_type": "stream",
     "text": [
      "Epoch 103/200, Loss: 0.0101 Val loss:2.2247\n",
      "Epoch 104/200, Loss: 0.0101 Val loss:2.2235\n",
      "Epoch 105/200, Loss: 0.0101 Val loss:2.2242\n",
      "Epoch 106/200, Loss: 0.0101 Val loss:2.2236\n",
      "Epoch 107/200, Loss: 0.0101 Val loss:2.2240\n"
     ]
    },
    {
     "name": "stderr",
     "output_type": "stream",
     "text": [
      " 56%|█████████████████████████████████▊                           | 111/200 [00:04<00:03, 24.07it/s]"
     ]
    },
    {
     "name": "stdout",
     "output_type": "stream",
     "text": [
      "Epoch 108/200, Loss: 0.0101 Val loss:2.2236\n",
      "Epoch 109/200, Loss: 0.0101 Val loss:2.2240\n",
      "Epoch 110/200, Loss: 0.0101 Val loss:2.2236\n",
      "Epoch 111/200, Loss: 0.0101 Val loss:2.2240\n",
      "Epoch 112/200, Loss: 0.0101 Val loss:2.2236\n"
     ]
    },
    {
     "name": "stderr",
     "output_type": "stream",
     "text": [
      " 58%|███████████████████████████████████▋                         | 117/200 [00:05<00:03, 24.48it/s]"
     ]
    },
    {
     "name": "stdout",
     "output_type": "stream",
     "text": [
      "Epoch 113/200, Loss: 0.0101 Val loss:2.2241\n",
      "Epoch 114/200, Loss: 0.0101 Val loss:2.2235\n",
      "Epoch 115/200, Loss: 0.0101 Val loss:2.2241\n",
      "Epoch 116/200, Loss: 0.0101 Val loss:2.2235\n",
      "Epoch 117/200, Loss: 0.0101 Val loss:2.2243\n"
     ]
    },
    {
     "name": "stderr",
     "output_type": "stream",
     "text": [
      " 60%|████████████████████████████████████▌                        | 120/200 [00:05<00:03, 22.55it/s]"
     ]
    },
    {
     "name": "stdout",
     "output_type": "stream",
     "text": [
      "Epoch 118/200, Loss: 0.0101 Val loss:2.2234\n",
      "Epoch 119/200, Loss: 0.0101 Val loss:2.2245\n",
      "Epoch 120/200, Loss: 0.0101 Val loss:2.2231\n",
      "Epoch 121/200, Loss: 0.0101 Val loss:2.2249\n",
      "Epoch 122/200, Loss: 0.0101 Val loss:2.2227\n"
     ]
    },
    {
     "name": "stderr",
     "output_type": "stream",
     "text": [
      " 63%|██████████████████████████████████████▍                      | 126/200 [00:05<00:03, 24.46it/s]"
     ]
    },
    {
     "name": "stdout",
     "output_type": "stream",
     "text": [
      "Epoch 123/200, Loss: 0.0101 Val loss:2.2255\n",
      "Epoch 124/200, Loss: 0.0101 Val loss:2.2219\n",
      "Epoch 125/200, Loss: 0.0101 Val loss:2.2267\n",
      "Epoch 126/200, Loss: 0.0101 Val loss:2.2202\n",
      "Epoch 127/200, Loss: 0.0101 Val loss:2.2291\n",
      "Epoch 128/200, Loss: 0.0101 Val loss:2.2169\n"
     ]
    },
    {
     "name": "stderr",
     "output_type": "stream",
     "text": [
      " 66%|████████████████████████████████████████▎                    | 132/200 [00:05<00:02, 24.74it/s]"
     ]
    },
    {
     "name": "stdout",
     "output_type": "stream",
     "text": [
      "Epoch 129/200, Loss: 0.0101 Val loss:2.2340\n",
      "Epoch 130/200, Loss: 0.0101 Val loss:2.2097\n",
      "Epoch 131/200, Loss: 0.0101 Val loss:2.2445\n",
      "Epoch 132/200, Loss: 0.0101 Val loss:2.1942\n",
      "Epoch 133/200, Loss: 0.0101 Val loss:2.2676\n"
     ]
    },
    {
     "name": "stderr",
     "output_type": "stream",
     "text": [
      " 68%|█████████████████████████████████████████▏                   | 135/200 [00:05<00:02, 23.78it/s]"
     ]
    },
    {
     "name": "stdout",
     "output_type": "stream",
     "text": [
      "Epoch 134/200, Loss: 0.0101 Val loss:2.1596\n",
      "Epoch 135/200, Loss: 0.0101 Val loss:2.3134\n",
      "Epoch 136/200, Loss: 0.0101 Val loss:2.0967\n"
     ]
    },
    {
     "name": "stderr",
     "output_type": "stream",
     "text": [
      " 70%|███████████████████████████████████████████                  | 141/200 [00:06<00:02, 21.89it/s]"
     ]
    },
    {
     "name": "stdout",
     "output_type": "stream",
     "text": [
      "Epoch 137/200, Loss: 0.0102 Val loss:2.3659\n",
      "Epoch 138/200, Loss: 0.0102 Val loss:2.0378\n",
      "Epoch 139/200, Loss: 0.0103 Val loss:2.3069\n",
      "Epoch 140/200, Loss: 0.0103 Val loss:2.1102\n",
      "Epoch 141/200, Loss: 0.0104 Val loss:2.2228\n",
      "Epoch 142/200, Loss: 0.0107 Val loss:2.2898\n"
     ]
    },
    {
     "name": "stderr",
     "output_type": "stream",
     "text": [
      " 74%|████████████████████████████████████████████▊                | 147/200 [00:06<00:02, 24.29it/s]"
     ]
    },
    {
     "name": "stdout",
     "output_type": "stream",
     "text": [
      "Epoch 143/200, Loss: 0.0115 Val loss:2.1181\n",
      "Epoch 144/200, Loss: 0.0108 Val loss:2.1647\n",
      "Epoch 145/200, Loss: 0.0112 Val loss:2.1204\n",
      "Epoch 146/200, Loss: 0.0109 Val loss:2.1744\n",
      "Epoch 147/200, Loss: 0.0110 Val loss:2.2210\n",
      "Epoch 148/200, Loss: 0.0102 Val loss:2.1813\n"
     ]
    },
    {
     "name": "stderr",
     "output_type": "stream",
     "text": [
      " 76%|██████████████████████████████████████████████▋              | 153/200 [00:06<00:01, 25.90it/s]"
     ]
    },
    {
     "name": "stdout",
     "output_type": "stream",
     "text": [
      "Epoch 149/200, Loss: 0.0101 Val loss:2.2115\n",
      "Epoch 150/200, Loss: 0.0101 Val loss:2.1921\n",
      "Epoch 151/200, Loss: 0.0101 Val loss:2.2106\n",
      "Epoch 152/200, Loss: 0.0101 Val loss:2.2118\n",
      "Epoch 153/200, Loss: 0.0101 Val loss:2.2084\n",
      "Epoch 154/200, Loss: 0.0101 Val loss:2.2095\n"
     ]
    },
    {
     "name": "stderr",
     "output_type": "stream",
     "text": [
      " 80%|████████████████████████████████████████████████▍            | 159/200 [00:06<00:01, 26.79it/s]"
     ]
    },
    {
     "name": "stdout",
     "output_type": "stream",
     "text": [
      "Epoch 155/200, Loss: 0.0101 Val loss:2.2071\n",
      "Epoch 156/200, Loss: 0.0101 Val loss:2.2083\n",
      "Epoch 157/200, Loss: 0.0101 Val loss:2.2072\n",
      "Epoch 158/200, Loss: 0.0101 Val loss:2.2079\n",
      "Epoch 159/200, Loss: 0.0101 Val loss:2.2071\n",
      "Epoch 160/200, Loss: 0.0101 Val loss:2.2071\n"
     ]
    },
    {
     "name": "stderr",
     "output_type": "stream",
     "text": [
      " 82%|██████████████████████████████████████████████████▎          | 165/200 [00:07<00:01, 26.37it/s]"
     ]
    },
    {
     "name": "stdout",
     "output_type": "stream",
     "text": [
      "Epoch 161/200, Loss: 0.0101 Val loss:2.2069\n",
      "Epoch 162/200, Loss: 0.0101 Val loss:2.2068\n",
      "Epoch 163/200, Loss: 0.0101 Val loss:2.2067\n",
      "Epoch 164/200, Loss: 0.0101 Val loss:2.2066\n",
      "Epoch 165/200, Loss: 0.0101 Val loss:2.2065\n",
      "Epoch 166/200, Loss: 0.0101 Val loss:2.2064\n"
     ]
    },
    {
     "name": "stderr",
     "output_type": "stream",
     "text": [
      " 86%|████████████████████████████████████████████████████▏        | 171/200 [00:07<00:01, 25.26it/s]"
     ]
    },
    {
     "name": "stdout",
     "output_type": "stream",
     "text": [
      "Epoch 167/200, Loss: 0.0101 Val loss:2.2063\n",
      "Epoch 168/200, Loss: 0.0101 Val loss:2.2062\n",
      "Epoch 169/200, Loss: 0.0101 Val loss:2.2062\n",
      "Epoch 170/200, Loss: 0.0101 Val loss:2.2061\n",
      "Epoch 171/200, Loss: 0.0101 Val loss:2.2061\n"
     ]
    },
    {
     "name": "stderr",
     "output_type": "stream",
     "text": [
      " 88%|█████████████████████████████████████████████████████▉       | 177/200 [00:07<00:00, 26.54it/s]"
     ]
    },
    {
     "name": "stdout",
     "output_type": "stream",
     "text": [
      "Epoch 172/200, Loss: 0.0101 Val loss:2.2060\n",
      "Epoch 173/200, Loss: 0.0101 Val loss:2.2060\n",
      "Epoch 174/200, Loss: 0.0101 Val loss:2.2060\n",
      "Epoch 175/200, Loss: 0.0101 Val loss:2.2059\n",
      "Epoch 176/200, Loss: 0.0101 Val loss:2.2059\n",
      "Epoch 177/200, Loss: 0.0101 Val loss:2.2059\n"
     ]
    },
    {
     "name": "stderr",
     "output_type": "stream",
     "text": [
      " 92%|███████████████████████████████████████████████████████▊     | 183/200 [00:07<00:00, 27.92it/s]"
     ]
    },
    {
     "name": "stdout",
     "output_type": "stream",
     "text": [
      "Epoch 178/200, Loss: 0.0101 Val loss:2.2058\n",
      "Epoch 179/200, Loss: 0.0101 Val loss:2.2058\n",
      "Epoch 180/200, Loss: 0.0101 Val loss:2.2058\n",
      "Epoch 181/200, Loss: 0.0101 Val loss:2.2058\n",
      "Epoch 182/200, Loss: 0.0101 Val loss:2.2058\n",
      "Epoch 183/200, Loss: 0.0101 Val loss:2.2058\n"
     ]
    },
    {
     "name": "stderr",
     "output_type": "stream",
     "text": [
      " 94%|█████████████████████████████████████████████████████████▋   | 189/200 [00:07<00:00, 28.12it/s]"
     ]
    },
    {
     "name": "stdout",
     "output_type": "stream",
     "text": [
      "Epoch 184/200, Loss: 0.0101 Val loss:2.2058\n",
      "Epoch 185/200, Loss: 0.0101 Val loss:2.2058\n",
      "Epoch 186/200, Loss: 0.0101 Val loss:2.2057\n",
      "Epoch 187/200, Loss: 0.0101 Val loss:2.2058\n",
      "Epoch 188/200, Loss: 0.0101 Val loss:2.2057\n",
      "Epoch 189/200, Loss: 0.0101 Val loss:2.2058\n"
     ]
    },
    {
     "name": "stderr",
     "output_type": "stream",
     "text": [
      " 98%|███████████████████████████████████████████████████████████▍ | 195/200 [00:08<00:00, 28.47it/s]"
     ]
    },
    {
     "name": "stdout",
     "output_type": "stream",
     "text": [
      "Epoch 190/200, Loss: 0.0101 Val loss:2.2057\n",
      "Epoch 191/200, Loss: 0.0101 Val loss:2.2058\n",
      "Epoch 192/200, Loss: 0.0101 Val loss:2.2056\n",
      "Epoch 193/200, Loss: 0.0101 Val loss:2.2058\n",
      "Epoch 194/200, Loss: 0.0101 Val loss:2.2056\n",
      "Epoch 195/200, Loss: 0.0101 Val loss:2.2059\n"
     ]
    },
    {
     "name": "stderr",
     "output_type": "stream",
     "text": [
      "100%|█████████████████████████████████████████████████████████████| 200/200 [00:08<00:00, 24.03it/s]\n"
     ]
    },
    {
     "name": "stdout",
     "output_type": "stream",
     "text": [
      "Epoch 196/200, Loss: 0.0101 Val loss:2.2054\n",
      "Epoch 197/200, Loss: 0.0101 Val loss:2.2061\n",
      "Epoch 198/200, Loss: 0.0101 Val loss:2.2051\n",
      "Epoch 199/200, Loss: 0.0101 Val loss:2.2066\n",
      "Epoch 200/200, Loss: 0.0101 Val loss:2.2045\n"
     ]
    },
    {
     "data": {
      "image/png": "[encoded data removed]",
      "text/plain": [
       "<Figure size 640x480 with 1 Axes>"
      ]
     },
     "metadata": {},
     "output_type": "display_data"
    }
   ],
   "source": [
    "batch_size=18\n",
    "\n",
    "# train and test dataloaders for lookback=6, lookahead=1\n",
    "lookback=6\n",
    "lookahead=1\n",
    "learning_rate = 0.001\n",
    "n_features = 15\n",
    "num_epochs = 200\n",
    "\n",
    "total_dataloader3 = WindowGenerator(X_total, y_total,\n",
    "                                  lookback=lookback,\n",
    "                                  lookahead=lookahead,\n",
    "                                  batch_size=batch_size).make_dataloader()\n",
    "\n",
    "train_dataloader3 = WindowGenerator(X_train, y_train,\n",
    "                                  lookback=lookback,\n",
    "                                  lookahead=lookahead,\n",
    "                                  batch_size=batch_size).make_dataloader()\n",
    "\n",
    "test_dataloader3 = WindowGenerator(X_test, y_test,\n",
    "                                 lookback=lookback,\n",
    "                                 lookahead=lookahead,\n",
    "                                 batch_size=batch_size).make_dataloader()\n",
    "\n",
    "# Initialize the model and the optimizer\n",
    "model_single3 = CNN_1D(n_features, lookback, layers =\"single\")\n",
    "model_single3.set_device()\n",
    "criterion = nn.MSELoss() \n",
    "optimizer = optim.Adam(model_single2.parameters(), lr=learning_rate)\n",
    "\n",
    "\n",
    "model_single2.fit(train_dataloader2, test_dataloader2, num_epochs,\n",
    "                    criterion, optimizer, min_delta=1e-4, patience=200)"
   ]
  },
  {
   "cell_type": "code",
   "execution_count": 141,
   "id": "b29fa29c-03c0-4707-9773-9c706b756c27",
   "metadata": {},
   "outputs": [
    {
     "name": "stdout",
     "output_type": "stream",
     "text": [
      "what is y_batch <class 'torch.Tensor'>, torch.Size([32])\n",
      "what is y_pred <class 'torch.Tensor'>, torch.Size([32, 1])\n",
      "what is y_batch <class 'torch.Tensor'>, torch.Size([18])\n",
      "what is y_pred <class 'torch.Tensor'>, torch.Size([18, 1])\n",
      "Test Loss: 2.0027, MSE: 40.3793, RMSE: 5.8675, MAE: 5.0607\n"
     ]
    },
    {
     "name": "stderr",
     "output_type": "stream",
     "text": [
      "/opt/homebrew/Caskroom/miniconda/base/envs/dfm2/lib/python3.11/site-packages/torch/nn/modules/loss.py:536: UserWarning: Using a target size (torch.Size([18])) that is different to the input size (torch.Size([18, 1])). This will likely lead to incorrect results due to broadcasting. Please ensure they have the same size.\n",
      "  return F.mse_loss(input, target, reduction=self.reduction)\n"
     ]
    }
   ],
   "source": [
    "model_single3.evaluate(test_dataloader3, criterion, y_scaler)"
   ]
  },
  {
   "cell_type": "markdown",
   "id": "93af30b4-c999-4de5-973a-cc6c44cb755b",
   "metadata": {},
   "source": [
    "## Multi Layer Conv1d Model"
   ]
  },
  {
   "cell_type": "code",
   "execution_count": 156,
   "id": "25482f1f-ea68-4a8e-8b4a-38bc0004adca",
   "metadata": {},
   "outputs": [
    {
     "name": "stderr",
     "output_type": "stream",
     "text": [
      "/opt/homebrew/Caskroom/miniconda/base/envs/dfm2/lib/python3.11/site-packages/torch/nn/init.py:405: UserWarning: Initializing zero-element tensors is a no-op\n",
      "  warnings.warn(\"Initializing zero-element tensors is a no-op\")\n"
     ]
    },
    {
     "name": "stdout",
     "output_type": "stream",
     "text": [
      "torch.device => mps\n"
     ]
    },
    {
     "name": "stderr",
     "output_type": "stream",
     "text": [
      "  0%|                                                                       | 0/200 [00:00<?, ?it/s]"
     ]
    },
    {
     "name": "stdout",
     "output_type": "stream",
     "text": [
      "Unexpected exception formatting exception. Falling back to standard exception\n"
     ]
    },
    {
     "name": "stderr",
     "output_type": "stream",
     "text": [
      "\n",
      "Traceback (most recent call last):\n",
      "  File \"/opt/homebrew/Caskroom/miniconda/base/envs/dfm2/lib/python3.11/site-packages/IPython/core/interactiveshell.py\", line 3505, in run_code\n",
      "    exec(code_obj, self.user_global_ns, self.user_ns)\n",
      "  File \"/var/folders/pn/qz12b_x55lx3hjqmrpty0b_00000gn/T/ipykernel_62428/3398568622.py\", line 32, in <module>\n",
      "    model_multi.fit(train_dataloader3, test_dataloader3, num_epochs,\n",
      "  File \"/Users/walter/code/aml-cs610/nowcasting/nowcasting/cnn_model.py\", line 297, in fit\n",
      "    outputs = self.forward(x_batch)\n",
      "              ^^^^^^^^^^^^^^^^^^^^^\n",
      "  File \"/Users/walter/code/aml-cs610/nowcasting/nowcasting/cnn_model.py\", line 271, in forward\n",
      "    x = self.pool(x)\n",
      "        ^^^^^^^^^^^^\n",
      "  File \"/opt/homebrew/Caskroom/miniconda/base/envs/dfm2/lib/python3.11/site-packages/torch/nn/modules/module.py\", line 1501, in _call_impl\n",
      "    return forward_call(*args, **kwargs)\n",
      "           ^^^^^^^^^^^^^^^^^^^^^^^^^^^^^\n",
      "  File \"/opt/homebrew/Caskroom/miniconda/base/envs/dfm2/lib/python3.11/site-packages/torch/nn/modules/pooling.py\", line 92, in forward\n",
      "    return F.max_pool1d(input, self.kernel_size, self.stride,\n",
      "           ^^^^^^^^^^^^^^^^^^^^^^^^^^^^^^^^^^^^^^^^^^^^^^^^^^\n",
      "  File \"/opt/homebrew/Caskroom/miniconda/base/envs/dfm2/lib/python3.11/site-packages/torch/_jit_internal.py\", line 484, in fn\n",
      "    return if_false(*args, **kwargs)\n",
      "           ^^^^^^^^^^^^^^^^^^^^^^^^^\n",
      "  File \"/opt/homebrew/Caskroom/miniconda/base/envs/dfm2/lib/python3.11/site-packages/torch/nn/functional.py\", line 696, in _max_pool1d\n",
      "    return torch.max_pool1d(input, kernel_size, stride, padding, dilation, ceil_mode)\n",
      "           ^^^^^^^^^^^^^^^^^^^^^^^^^^^^^^^^^^^^^^^^^^^^^^^^^^^^^^^^^^^^^^^^^^^^^^^^^^\n",
      "RuntimeError: Given input size: (256x1x1). Calculated output size: (256x1x0). Output size is too small\n",
      "\n",
      "During handling of the above exception, another exception occurred:\n",
      "\n",
      "Traceback (most recent call last):\n",
      "  File \"/opt/homebrew/Caskroom/miniconda/base/envs/dfm2/lib/python3.11/site-packages/IPython/core/interactiveshell.py\", line 2102, in showtraceback\n",
      "    stb = self.InteractiveTB.structured_traceback(\n",
      "          ^^^^^^^^^^^^^^^^^^^^^^^^^^^^^^^^^^^^^^^^\n",
      "  File \"/opt/homebrew/Caskroom/miniconda/base/envs/dfm2/lib/python3.11/site-packages/IPython/core/ultratb.py\", line 1310, in structured_traceback\n",
      "    return FormattedTB.structured_traceback(\n",
      "           ^^^^^^^^^^^^^^^^^^^^^^^^^^^^^^^^^\n",
      "  File \"/opt/homebrew/Caskroom/miniconda/base/envs/dfm2/lib/python3.11/site-packages/IPython/core/ultratb.py\", line 1199, in structured_traceback\n",
      "    return VerboseTB.structured_traceback(\n",
      "           ^^^^^^^^^^^^^^^^^^^^^^^^^^^^^^^\n",
      "  File \"/opt/homebrew/Caskroom/miniconda/base/envs/dfm2/lib/python3.11/site-packages/IPython/core/ultratb.py\", line 1052, in structured_traceback\n",
      "    formatted_exception = self.format_exception_as_a_whole(etype, evalue, etb, number_of_lines_of_context,\n",
      "                          ^^^^^^^^^^^^^^^^^^^^^^^^^^^^^^^^^^^^^^^^^^^^^^^^^^^^^^^^^^^^^^^^^^^^^^^^^^^^^^^^\n",
      "  File \"/opt/homebrew/Caskroom/miniconda/base/envs/dfm2/lib/python3.11/site-packages/IPython/core/ultratb.py\", line 978, in format_exception_as_a_whole\n",
      "    frames.append(self.format_record(record))\n",
      "                  ^^^^^^^^^^^^^^^^^^^^^^^^^^\n",
      "  File \"/opt/homebrew/Caskroom/miniconda/base/envs/dfm2/lib/python3.11/site-packages/IPython/core/ultratb.py\", line 878, in format_record\n",
      "    frame_info.lines, Colors, self.has_colors, lvals\n",
      "    ^^^^^^^^^^^^^^^^\n",
      "  File \"/opt/homebrew/Caskroom/miniconda/base/envs/dfm2/lib/python3.11/site-packages/IPython/core/ultratb.py\", line 712, in lines\n",
      "    return self._sd.lines\n",
      "           ^^^^^^^^^^^^^^\n",
      "  File \"/opt/homebrew/Caskroom/miniconda/base/envs/dfm2/lib/python3.11/site-packages/stack_data/utils.py\", line 145, in cached_property_wrapper\n",
      "    value = obj.__dict__[self.func.__name__] = self.func(obj)\n",
      "                                               ^^^^^^^^^^^^^^\n",
      "  File \"/opt/homebrew/Caskroom/miniconda/base/envs/dfm2/lib/python3.11/site-packages/stack_data/core.py\", line 698, in lines\n",
      "    pieces = self.included_pieces\n",
      "             ^^^^^^^^^^^^^^^^^^^^\n",
      "  File \"/opt/homebrew/Caskroom/miniconda/base/envs/dfm2/lib/python3.11/site-packages/stack_data/utils.py\", line 145, in cached_property_wrapper\n",
      "    value = obj.__dict__[self.func.__name__] = self.func(obj)\n",
      "                                               ^^^^^^^^^^^^^^\n",
      "  File \"/opt/homebrew/Caskroom/miniconda/base/envs/dfm2/lib/python3.11/site-packages/stack_data/core.py\", line 649, in included_pieces\n",
      "    pos = scope_pieces.index(self.executing_piece)\n",
      "                             ^^^^^^^^^^^^^^^^^^^^\n",
      "  File \"/opt/homebrew/Caskroom/miniconda/base/envs/dfm2/lib/python3.11/site-packages/stack_data/utils.py\", line 145, in cached_property_wrapper\n",
      "    value = obj.__dict__[self.func.__name__] = self.func(obj)\n",
      "                                               ^^^^^^^^^^^^^^\n",
      "  File \"/opt/homebrew/Caskroom/miniconda/base/envs/dfm2/lib/python3.11/site-packages/stack_data/core.py\", line 628, in executing_piece\n",
      "    return only(\n",
      "           ^^^^^\n",
      "  File \"/opt/homebrew/Caskroom/miniconda/base/envs/dfm2/lib/python3.11/site-packages/executing/executing.py\", line 164, in only\n",
      "    raise NotOneValueFound('Expected one value, found 0')\n",
      "executing.executing.NotOneValueFound: Expected one value, found 0\n"
     ]
    }
   ],
   "source": [
    "batch_size=18\n",
    "\n",
    "# train and test dataloaders for lookback=6, lookahead=1\n",
    "lookback=12\n",
    "lookahead=1\n",
    "learning_rate = 0.001\n",
    "n_features = 15\n",
    "num_epochs = 200\n",
    "\n",
    "total_dataloader3 = WindowGenerator(X_train, y_train,\n",
    "                                  lookback=lookback,\n",
    "                                  lookahead=lookahead,\n",
    "                                  batch_size=batch_size).make_dataloader()\n",
    "\n",
    "train_dataloader3 = WindowGenerator(X_train, y_train,\n",
    "                                  lookback=lookback,\n",
    "                                  lookahead=lookahead,\n",
    "                                  batch_size=batch_size).make_dataloader()\n",
    "\n",
    "test_dataloader3 = WindowGenerator(X_test, y_test,\n",
    "                                 lookback=lookback,\n",
    "                                 lookahead=lookahead,\n",
    "                                 batch_size=batch_size).make_dataloader()\n",
    "\n",
    "# Initialize the model and the optimizer\n",
    "model_multi = CNN_1D(n_features, lookback, layers =\"multi\")\n",
    "model_multi.set_device()\n",
    "criterion = nn.MSELoss() \n",
    "optimizer = optim.Adam(model_multi.parameters(), lr=learning_rate)\n",
    "\n",
    "\n",
    "model_multi.fit(train_dataloader3, test_dataloader3, num_epochs,\n",
    "                    criterion, optimizer, min_delta=1e-4, patience=200)"
   ]
  },
  {
   "cell_type": "code",
   "execution_count": 153,
   "id": "583bc40c-b77e-40e5-aca0-979331dd245b",
   "metadata": {},
   "outputs": [
    {
     "name": "stdout",
     "output_type": "stream",
     "text": [
      "what is y_batch <class 'torch.Tensor'>, torch.Size([18])\n",
      "what is y_pred <class 'torch.Tensor'>, torch.Size([18, 1])\n",
      "what is y_batch <class 'torch.Tensor'>, torch.Size([18])\n",
      "what is y_pred <class 'torch.Tensor'>, torch.Size([18, 1])\n",
      "what is y_batch <class 'torch.Tensor'>, torch.Size([14])\n",
      "what is y_pred <class 'torch.Tensor'>, torch.Size([14, 1])\n",
      "Test Loss: 1.8209, MSE: 17.9598, RMSE: 4.1791, MAE: 3.1871\n"
     ]
    },
    {
     "name": "stderr",
     "output_type": "stream",
     "text": [
      "/opt/homebrew/Caskroom/miniconda/base/envs/dfm2/lib/python3.11/site-packages/torch/nn/modules/loss.py:536: UserWarning: Using a target size (torch.Size([18])) that is different to the input size (torch.Size([18, 1])). This will likely lead to incorrect results due to broadcasting. Please ensure they have the same size.\n",
      "  return F.mse_loss(input, target, reduction=self.reduction)\n",
      "/opt/homebrew/Caskroom/miniconda/base/envs/dfm2/lib/python3.11/site-packages/torch/nn/modules/loss.py:536: UserWarning: Using a target size (torch.Size([14])) that is different to the input size (torch.Size([14, 1])). This will likely lead to incorrect results due to broadcasting. Please ensure they have the same size.\n",
      "  return F.mse_loss(input, target, reduction=self.reduction)\n"
     ]
    }
   ],
   "source": [
    "model_multi.evaluate(test_dataloader3, criterion, y_scaler)"
   ]
  },
  {
   "cell_type": "markdown",
   "id": "a1ae3ff8-48ad-41dd-8800-c315ba0ad790",
   "metadata": {},
   "source": [
    "## Visualize Results"
   ]
  },
  {
   "cell_type": "code",
   "execution_count": 135,
   "id": "9572031b-6313-46fb-a34e-4f0a8f955539",
   "metadata": {},
   "outputs": [],
   "source": [
    "import matplotlib.dates as mdates\n",
    "\n",
    "def plot_predictions(model, \n",
    "                     test_loader, \n",
    "                     test_dateindex,\n",
    "                     lookback,\n",
    "                     lookahead,\n",
    "                     y_scaler,\n",
    "                     title=\"\"\n",
    "                     ):\n",
    "    y_pred = model.predict(torch.Tensor(np.array(test_loader.dataset.X)))\n",
    "    y_pred = y_pred.cpu().detach()\n",
    "    y_pred = y_scaler.inverse_transform(y_pred.reshape(-1,1))\n",
    "    \n",
    "    start = lookback\n",
    "    end = len(test_dateindex) - lookahead\n",
    "    # start = 0\n",
    "    # end = len(test_dateindex)    \n",
    "\n",
    "    fig, axs = plt.subplots(1,1, figsize=(10,8), constrained_layout=True)\n",
    "    true_y = y_scaler.inverse_transform(test_loader.dataset.y.reshape(-1,1))\n",
    "\n",
    "    # for ax in axs.ravel():\n",
    "    axs.plot(test_dateindex[start:end], \n",
    "            true_y, \n",
    "            linewidth=1, alpha=0.5, \n",
    "            color='#000099', label='y_true')\n",
    "\n",
    "    axs.plot(test_dateindex[start:end], \n",
    "            y_pred, \n",
    "            linewidth=1, alpha=0.5, \n",
    "            color='#ff0000', label='y_pred')\n",
    "\n",
    "    axs.legend()\n",
    "\n",
    "    axs.set_title(title)\n",
    "    plt.xticks(rotation=45)\n",
    "    x_labels = axs.get_xticklabels()\n",
    "    for i, label in enumerate(x_labels):\n",
    "        if i % 6 != 0:\n",
    "            label.set_visible(False)\n",
    "\n",
    "    plt.show()"
   ]
  },
  {
   "cell_type": "code",
   "execution_count": 89,
   "id": "4179ee4d-4fd0-485b-8174-81c135c0c3f1",
   "metadata": {},
   "outputs": [
    {
     "data": {
      "text/plain": [
       "numpy.ndarray"
      ]
     },
     "execution_count": 89,
     "metadata": {},
     "output_type": "execute_result"
    }
   ],
   "source": [
    "type(test_dataloader1.dataset.X)"
   ]
  },
  {
   "cell_type": "code",
   "execution_count": 110,
   "id": "63e1dbb8-1f69-4adf-934a-ec53cc294d7f",
   "metadata": {},
   "outputs": [
    {
     "data": {
      "text/plain": [
       "Index(['2018-01-31', '2018-02-28', '2018-03-31', '2018-04-30', '2018-05-31',\n",
       "       '2018-06-30', '2018-07-31', '2018-08-31', '2018-09-30', '2018-10-31',\n",
       "       '2018-11-30', '2018-12-31', '2019-01-31', '2019-02-28', '2019-03-31',\n",
       "       '2019-04-30', '2019-05-31', '2019-06-30', '2019-07-31', '2019-08-31',\n",
       "       '2019-09-30', '2019-10-31', '2019-11-30', '2019-12-31', '2020-01-31',\n",
       "       '2020-02-29', '2020-03-31', '2020-04-30', '2020-05-31', '2020-06-30',\n",
       "       '2020-07-31', '2020-08-31', '2020-09-30', '2020-10-31', '2020-11-30',\n",
       "       '2020-12-31', '2021-01-31', '2021-02-28', '2021-03-31', '2021-04-30',\n",
       "       '2021-05-31', '2021-06-30', '2021-07-31', '2021-08-31', '2021-09-30',\n",
       "       '2021-10-31', '2021-11-30', '2021-12-31', '2022-01-31', '2022-02-28',\n",
       "       '2022-03-31', '2022-04-30', '2022-05-31', '2022-06-30', '2022-07-31',\n",
       "       '2022-08-31', '2022-09-30', '2022-10-31', '2022-11-30', '2022-12-31',\n",
       "       '2023-01-31', '2023-02-28', '2023-03-31'],\n",
       "      dtype='object', name='Index')"
      ]
     },
     "execution_count": 110,
     "metadata": {},
     "output_type": "execute_result"
    }
   ],
   "source": [
    "test_dateindex"
   ]
  },
  {
   "cell_type": "code",
   "execution_count": 109,
   "id": "dbc45c54-6f2e-4529-b48c-a7e471cdedd5",
   "metadata": {},
   "outputs": [
    {
     "data": {
      "text/plain": [
       "str"
      ]
     },
     "execution_count": 109,
     "metadata": {},
     "output_type": "execute_result"
    }
   ],
   "source": [
    "type(test_dateindex[0])"
   ]
  },
  {
   "cell_type": "code",
   "execution_count": 147,
   "id": "74615de6-c41a-409b-8510-b94f4ec5c678",
   "metadata": {},
   "outputs": [
    {
     "data": {
      "image/png": "[encoded data removed]",
      "text/plain": [
       "<Figure size 1000x800 with 1 Axes>"
      ]
     },
     "metadata": {},
     "output_type": "display_data"
    }
   ],
   "source": [
    "lookback = 6\n",
    "lookahead = 1\n",
    "plot_predictions(model_single, test_dataloader1,\n",
    "                 test_dateindex, lookback, lookahead, y_scaler)"
   ]
  },
  {
   "cell_type": "code",
   "execution_count": 154,
   "id": "469d5def-f634-4db4-8577-fab23cfe5dca",
   "metadata": {},
   "outputs": [
    {
     "ename": "ValueError",
     "evalue": "x and y must have same first dimension, but have shapes (290,) and (239, 1)",
     "output_type": "error",
     "traceback": [
      "\u001b[0;31m---------------------------------------------------------------------------\u001b[0m",
      "\u001b[0;31mValueError\u001b[0m                                Traceback (most recent call last)",
      "Cell \u001b[0;32mIn[155], line 5\u001b[0m\n\u001b[1;32m      3\u001b[0m lookback \u001b[38;5;241m=\u001b[39m \u001b[38;5;241m24\u001b[39m\n\u001b[1;32m      4\u001b[0m lookahead \u001b[38;5;241m=\u001b[39m \u001b[38;5;241m1\u001b[39m\n\u001b[0;32m----> 5\u001b[0m plot_predictions(model_multi, total_dataloader3,\n\u001b[1;32m      6\u001b[0m                  total_dateindex, lookback, lookahead, y_scaler)\n",
      "Cell \u001b[0;32mIn[135], line 24\u001b[0m, in \u001b[0;36mplot_predictions\u001b[0;34m(model, test_loader, test_dateindex, lookback, lookahead, y_scaler, title)\u001b[0m\n\u001b[1;32m     21\u001b[0m true_y \u001b[38;5;241m=\u001b[39m y_scaler\u001b[38;5;241m.\u001b[39minverse_transform(test_loader\u001b[38;5;241m.\u001b[39mdataset\u001b[38;5;241m.\u001b[39my\u001b[38;5;241m.\u001b[39mreshape(\u001b[38;5;241m-\u001b[39m\u001b[38;5;241m1\u001b[39m,\u001b[38;5;241m1\u001b[39m))\n\u001b[1;32m     23\u001b[0m \u001b[38;5;66;03m# for ax in axs.ravel():\u001b[39;00m\n\u001b[0;32m---> 24\u001b[0m axs\u001b[38;5;241m.\u001b[39mplot(test_dateindex[start:end], \n\u001b[1;32m     25\u001b[0m         true_y, \n\u001b[1;32m     26\u001b[0m         linewidth\u001b[38;5;241m=\u001b[39m\u001b[38;5;241m1\u001b[39m, alpha\u001b[38;5;241m=\u001b[39m\u001b[38;5;241m0.5\u001b[39m, \n\u001b[1;32m     27\u001b[0m         color\u001b[38;5;241m=\u001b[39m\u001b[38;5;124m'\u001b[39m\u001b[38;5;124m#000099\u001b[39m\u001b[38;5;124m'\u001b[39m, label\u001b[38;5;241m=\u001b[39m\u001b[38;5;124m'\u001b[39m\u001b[38;5;124my_true\u001b[39m\u001b[38;5;124m'\u001b[39m)\n\u001b[1;32m     29\u001b[0m axs\u001b[38;5;241m.\u001b[39mplot(test_dateindex[start:end], \n\u001b[1;32m     30\u001b[0m         y_pred, \n\u001b[1;32m     31\u001b[0m         linewidth\u001b[38;5;241m=\u001b[39m\u001b[38;5;241m1\u001b[39m, alpha\u001b[38;5;241m=\u001b[39m\u001b[38;5;241m0.5\u001b[39m, \n\u001b[1;32m     32\u001b[0m         color\u001b[38;5;241m=\u001b[39m\u001b[38;5;124m'\u001b[39m\u001b[38;5;124m#ff0000\u001b[39m\u001b[38;5;124m'\u001b[39m, label\u001b[38;5;241m=\u001b[39m\u001b[38;5;124m'\u001b[39m\u001b[38;5;124my_pred\u001b[39m\u001b[38;5;124m'\u001b[39m)\n\u001b[1;32m     34\u001b[0m axs\u001b[38;5;241m.\u001b[39mlegend()\n",
      "File \u001b[0;32m/opt/homebrew/Caskroom/miniconda/base/envs/dfm2/lib/python3.11/site-packages/matplotlib/axes/_axes.py:1662\u001b[0m, in \u001b[0;36mAxes.plot\u001b[0;34m(self, scalex, scaley, data, *args, **kwargs)\u001b[0m\n\u001b[1;32m   1419\u001b[0m \u001b[38;5;250m\u001b[39m\u001b[38;5;124;03m\"\"\"\u001b[39;00m\n\u001b[1;32m   1420\u001b[0m \u001b[38;5;124;03mPlot y versus x as lines and/or markers.\u001b[39;00m\n\u001b[1;32m   1421\u001b[0m \n\u001b[0;32m   (...)\u001b[0m\n\u001b[1;32m   1659\u001b[0m \u001b[38;5;124;03m(``'green'``) or hex strings (``'#008000'``).\u001b[39;00m\n\u001b[1;32m   1660\u001b[0m \u001b[38;5;124;03m\"\"\"\u001b[39;00m\n\u001b[1;32m   1661\u001b[0m kwargs \u001b[38;5;241m=\u001b[39m cbook\u001b[38;5;241m.\u001b[39mnormalize_kwargs(kwargs, mlines\u001b[38;5;241m.\u001b[39mLine2D)\n\u001b[0;32m-> 1662\u001b[0m lines \u001b[38;5;241m=\u001b[39m [\u001b[38;5;241m*\u001b[39m\u001b[38;5;28mself\u001b[39m\u001b[38;5;241m.\u001b[39m_get_lines(\u001b[38;5;241m*\u001b[39margs, data\u001b[38;5;241m=\u001b[39mdata, \u001b[38;5;241m*\u001b[39m\u001b[38;5;241m*\u001b[39mkwargs)]\n\u001b[1;32m   1663\u001b[0m \u001b[38;5;28;01mfor\u001b[39;00m line \u001b[38;5;129;01min\u001b[39;00m lines:\n\u001b[1;32m   1664\u001b[0m     \u001b[38;5;28mself\u001b[39m\u001b[38;5;241m.\u001b[39madd_line(line)\n",
      "File \u001b[0;32m/opt/homebrew/Caskroom/miniconda/base/envs/dfm2/lib/python3.11/site-packages/matplotlib/axes/_base.py:311\u001b[0m, in \u001b[0;36m_process_plot_var_args.__call__\u001b[0;34m(self, data, *args, **kwargs)\u001b[0m\n\u001b[1;32m    309\u001b[0m     this \u001b[38;5;241m+\u001b[39m\u001b[38;5;241m=\u001b[39m args[\u001b[38;5;241m0\u001b[39m],\n\u001b[1;32m    310\u001b[0m     args \u001b[38;5;241m=\u001b[39m args[\u001b[38;5;241m1\u001b[39m:]\n\u001b[0;32m--> 311\u001b[0m \u001b[38;5;28;01myield from\u001b[39;00m \u001b[38;5;28mself\u001b[39m\u001b[38;5;241m.\u001b[39m_plot_args(\n\u001b[1;32m    312\u001b[0m     this, kwargs, ambiguous_fmt_datakey\u001b[38;5;241m=\u001b[39mambiguous_fmt_datakey)\n",
      "File \u001b[0;32m/opt/homebrew/Caskroom/miniconda/base/envs/dfm2/lib/python3.11/site-packages/matplotlib/axes/_base.py:504\u001b[0m, in \u001b[0;36m_process_plot_var_args._plot_args\u001b[0;34m(self, tup, kwargs, return_kwargs, ambiguous_fmt_datakey)\u001b[0m\n\u001b[1;32m    501\u001b[0m     \u001b[38;5;28mself\u001b[39m\u001b[38;5;241m.\u001b[39maxes\u001b[38;5;241m.\u001b[39myaxis\u001b[38;5;241m.\u001b[39mupdate_units(y)\n\u001b[1;32m    503\u001b[0m \u001b[38;5;28;01mif\u001b[39;00m x\u001b[38;5;241m.\u001b[39mshape[\u001b[38;5;241m0\u001b[39m] \u001b[38;5;241m!=\u001b[39m y\u001b[38;5;241m.\u001b[39mshape[\u001b[38;5;241m0\u001b[39m]:\n\u001b[0;32m--> 504\u001b[0m     \u001b[38;5;28;01mraise\u001b[39;00m \u001b[38;5;167;01mValueError\u001b[39;00m(\u001b[38;5;124mf\u001b[39m\u001b[38;5;124m\"\u001b[39m\u001b[38;5;124mx and y must have same first dimension, but \u001b[39m\u001b[38;5;124m\"\u001b[39m\n\u001b[1;32m    505\u001b[0m                      \u001b[38;5;124mf\u001b[39m\u001b[38;5;124m\"\u001b[39m\u001b[38;5;124mhave shapes \u001b[39m\u001b[38;5;132;01m{\u001b[39;00mx\u001b[38;5;241m.\u001b[39mshape\u001b[38;5;132;01m}\u001b[39;00m\u001b[38;5;124m and \u001b[39m\u001b[38;5;132;01m{\u001b[39;00my\u001b[38;5;241m.\u001b[39mshape\u001b[38;5;132;01m}\u001b[39;00m\u001b[38;5;124m\"\u001b[39m)\n\u001b[1;32m    506\u001b[0m \u001b[38;5;28;01mif\u001b[39;00m x\u001b[38;5;241m.\u001b[39mndim \u001b[38;5;241m>\u001b[39m \u001b[38;5;241m2\u001b[39m \u001b[38;5;129;01mor\u001b[39;00m y\u001b[38;5;241m.\u001b[39mndim \u001b[38;5;241m>\u001b[39m \u001b[38;5;241m2\u001b[39m:\n\u001b[1;32m    507\u001b[0m     \u001b[38;5;28;01mraise\u001b[39;00m \u001b[38;5;167;01mValueError\u001b[39;00m(\u001b[38;5;124mf\u001b[39m\u001b[38;5;124m\"\u001b[39m\u001b[38;5;124mx and y can be no greater than 2D, but have \u001b[39m\u001b[38;5;124m\"\u001b[39m\n\u001b[1;32m    508\u001b[0m                      \u001b[38;5;124mf\u001b[39m\u001b[38;5;124m\"\u001b[39m\u001b[38;5;124mshapes \u001b[39m\u001b[38;5;132;01m{\u001b[39;00mx\u001b[38;5;241m.\u001b[39mshape\u001b[38;5;132;01m}\u001b[39;00m\u001b[38;5;124m and \u001b[39m\u001b[38;5;132;01m{\u001b[39;00my\u001b[38;5;241m.\u001b[39mshape\u001b[38;5;132;01m}\u001b[39;00m\u001b[38;5;124m\"\u001b[39m)\n",
      "\u001b[0;31mValueError\u001b[0m: x and y must have same first dimension, but have shapes (290,) and (239, 1)"
     ]
    },
    {
     "data": {
      "image/png": "[encoded data removed]",
      "text/plain": [
       "<Figure size 1000x800 with 1 Axes>"
      ]
     },
     "metadata": {},
     "output_type": "display_data"
    }
   ],
   "source": [
    "# model_multi.evaluate(test_dataloader3, criterion, y_scaler)\n",
    "\n",
    "lookback = 24\n",
    "lookahead = 1\n",
    "plot_predictions(model_multi, test_dataloader3,\n",
    "                 test_dateindex, lookback, lookahead, y_scaler)"
   ]
  },
  {
   "cell_type": "code",
   "execution_count": 126,
   "id": "b750d79a-06c8-4614-866f-4e2039d58ce3",
   "metadata": {},
   "outputs": [
    {
     "name": "stderr",
     "output_type": "stream",
     "text": [
      "  1%|▍                                                                   | 6/1000 [00:00<00:36, 27.48it/s]"
     ]
    },
    {
     "name": "stdout",
     "output_type": "stream",
     "text": [
      "Epoch 1/1000, Loss: 0.2443, Val loss:1.2920\n",
      "Epoch 2/1000, Loss: 0.0570, Val loss:0.6989\n",
      "Epoch 3/1000, Loss: 0.0583, Val loss:0.6467\n",
      "Epoch 4/1000, Loss: 0.0311, Val loss:0.5311\n",
      "Epoch 5/1000, Loss: 0.0217, Val loss:0.5092\n",
      "Epoch 6/1000, Loss: 0.0120, Val loss:0.4937\n"
     ]
    },
    {
     "name": "stderr",
     "output_type": "stream",
     "text": [
      "  1%|▊                                                                  | 12/1000 [00:00<00:35, 27.80it/s]"
     ]
    },
    {
     "name": "stdout",
     "output_type": "stream",
     "text": [
      "Epoch 7/1000, Loss: 0.0109, Val loss:0.4200\n",
      "Epoch 8/1000, Loss: 0.0057, Val loss:0.3904\n",
      "Epoch 9/1000, Loss: 0.0266, Val loss:0.4695\n",
      "Epoch 10/1000, Loss: 0.0596, Val loss:1.0807\n",
      "Epoch 11/1000, Loss: 0.0388, Val loss:0.7190\n",
      "Epoch 12/1000, Loss: 0.0787, Val loss:0.6035\n"
     ]
    },
    {
     "name": "stderr",
     "output_type": "stream",
     "text": [
      "  2%|█▏                                                                 | 18/1000 [00:00<00:35, 27.95it/s]"
     ]
    },
    {
     "name": "stdout",
     "output_type": "stream",
     "text": [
      "Epoch 13/1000, Loss: 0.1168, Val loss:0.8762\n",
      "Epoch 14/1000, Loss: 0.0074, Val loss:0.3623\n",
      "Epoch 15/1000, Loss: 0.0250, Val loss:0.5668\n",
      "Epoch 16/1000, Loss: 0.0060, Val loss:0.3771\n",
      "Epoch 17/1000, Loss: 0.0105, Val loss:0.4810\n",
      "Epoch 18/1000, Loss: 0.0035, Val loss:0.3832\n"
     ]
    },
    {
     "name": "stderr",
     "output_type": "stream",
     "text": [
      "  2%|█▌                                                                 | 24/1000 [00:00<00:34, 28.44it/s]"
     ]
    },
    {
     "name": "stdout",
     "output_type": "stream",
     "text": [
      "Epoch 19/1000, Loss: 0.0054, Val loss:0.4516\n",
      "Epoch 20/1000, Loss: 0.0019, Val loss:0.4112\n",
      "Epoch 21/1000, Loss: 0.0018, Val loss:0.4256\n",
      "Epoch 22/1000, Loss: 0.0040, Val loss:0.4429\n",
      "Epoch 23/1000, Loss: 0.0014, Val loss:0.4265\n",
      "Epoch 24/1000, Loss: 0.0029, Val loss:0.4032\n"
     ]
    },
    {
     "name": "stderr",
     "output_type": "stream",
     "text": [
      "  3%|██                                                                 | 30/1000 [00:01<00:33, 29.06it/s]"
     ]
    },
    {
     "name": "stdout",
     "output_type": "stream",
     "text": [
      "Epoch 25/1000, Loss: 0.0089, Val loss:0.4618\n",
      "Epoch 26/1000, Loss: 0.0014, Val loss:0.4536\n",
      "Epoch 27/1000, Loss: 0.0109, Val loss:0.3744\n",
      "Epoch 28/1000, Loss: 0.0173, Val loss:0.4767\n",
      "Epoch 29/1000, Loss: 0.0020, Val loss:0.4910\n",
      "Epoch 30/1000, Loss: 0.0155, Val loss:0.3606\n"
     ]
    },
    {
     "name": "stderr",
     "output_type": "stream",
     "text": [
      "  3%|██▏                                                                | 33/1000 [00:01<00:33, 28.97it/s]"
     ]
    },
    {
     "name": "stdout",
     "output_type": "stream",
     "text": [
      "Epoch 31/1000, Loss: 0.0150, Val loss:0.4695\n",
      "Epoch 32/1000, Loss: 0.0030, Val loss:0.5146\n",
      "Epoch 33/1000, Loss: 0.0187, Val loss:0.3699\n",
      "Epoch 34/1000, Loss: 0.0122, Val loss:0.4696\n",
      "Epoch 35/1000, Loss: 0.0051, Val loss:0.5214\n",
      "Epoch 36/1000, Loss: 0.0191, Val loss:0.3835\n"
     ]
    },
    {
     "name": "stderr",
     "output_type": "stream",
     "text": [
      "  4%|██▋                                                                | 40/1000 [00:01<00:36, 26.06it/s]"
     ]
    },
    {
     "name": "stdout",
     "output_type": "stream",
     "text": [
      "Epoch 37/1000, Loss: 0.0095, Val loss:0.4481\n",
      "Epoch 38/1000, Loss: 0.0046, Val loss:0.5032\n",
      "Epoch 39/1000, Loss: 0.0117, Val loss:0.3883\n",
      "Epoch 40/1000, Loss: 0.0039, Val loss:0.4351\n",
      "Epoch 41/1000, Loss: 0.0040, Val loss:0.4970\n"
     ]
    },
    {
     "name": "stderr",
     "output_type": "stream",
     "text": [
      "  5%|███                                                                | 46/1000 [00:01<00:35, 26.90it/s]"
     ]
    },
    {
     "name": "stdout",
     "output_type": "stream",
     "text": [
      "Epoch 42/1000, Loss: 0.0084, Val loss:0.3931\n",
      "Epoch 43/1000, Loss: 0.0010, Val loss:0.4152\n",
      "Epoch 44/1000, Loss: 0.0076, Val loss:0.5227\n",
      "Epoch 45/1000, Loss: 0.0076, Val loss:0.3999\n",
      "Epoch 46/1000, Loss: 0.0009, Val loss:0.3823\n",
      "Epoch 47/1000, Loss: 0.0220, Val loss:0.5862\n",
      "Epoch 48/1000, Loss: 0.0059, "
     ]
    },
    {
     "name": "stderr",
     "output_type": "stream",
     "text": [
      "  5%|███▌                                                               | 53/1000 [00:01<00:36, 26.14it/s]"
     ]
    },
    {
     "name": "stdout",
     "output_type": "stream",
     "text": [
      "Val loss:0.4308\n",
      "Epoch 49/1000, Loss: 0.0106, Val loss:0.3608\n",
      "Epoch 50/1000, Loss: 0.0491, Val loss:0.6958\n",
      "Epoch 51/1000, Loss: 0.0044, Val loss:0.4607\n",
      "Epoch 52/1000, Loss: 0.0089, Val loss:0.3609\n",
      "Epoch 53/1000, Loss: 0.0231, Val loss:0.5980\n"
     ]
    },
    {
     "name": "stderr",
     "output_type": "stream",
     "text": [
      "  6%|███▊                                                               | 56/1000 [00:02<00:36, 25.82it/s]"
     ]
    },
    {
     "name": "stdout",
     "output_type": "stream",
     "text": [
      "Epoch 54/1000, Loss: 0.0041, Val loss:0.4128\n",
      "Epoch 55/1000, Loss: 0.0009, Val loss:0.3955\n",
      "Epoch 56/1000, Loss: 0.0028, Val loss:0.4736\n",
      "Epoch 57/1000, Loss: 0.0017, Val loss:0.4095\n",
      "Epoch 58/1000, Loss: 0.0003, Val loss:0.4163\n",
      "Epoch 59/1000, Loss: 0.0009, Val loss:0.4508\n"
     ]
    },
    {
     "name": "stderr",
     "output_type": "stream",
     "text": [
      "  6%|████▏                                                              | 63/1000 [00:02<00:36, 25.80it/s]"
     ]
    },
    {
     "name": "stdout",
     "output_type": "stream",
     "text": [
      "Epoch 60/1000, Loss: 0.0007, Val loss:0.4207\n",
      "Epoch 61/1000, Loss: 0.0002, Val loss:0.4228\n",
      "Epoch 62/1000, Loss: 0.0007, Val loss:0.4521\n",
      "Epoch 63/1000, Loss: 0.0005, Val loss:0.4282\n",
      "Epoch 64/1000, Loss: 0.0002, Val loss:0.4212\n"
     ]
    },
    {
     "name": "stderr",
     "output_type": "stream",
     "text": [
      "  7%|████▊                                                              | 71/1000 [00:02<00:33, 27.91it/s]"
     ]
    },
    {
     "name": "stdout",
     "output_type": "stream",
     "text": [
      "Epoch 65/1000, Loss: 0.0010, Val loss:0.4588\n",
      "Epoch 66/1000, Loss: 0.0004, Val loss:0.4372\n",
      "Epoch 67/1000, Loss: 0.0007, Val loss:0.4120\n",
      "Epoch 68/1000, Loss: 0.0022, Val loss:0.4681\n",
      "Epoch 69/1000, Loss: 0.0002, Val loss:0.4584\n",
      "Epoch 70/1000, Loss: 0.0039, Val loss:0.3954\n",
      "Epoch 71/1000, Loss: 0.0051, Val loss:0.4713\n"
     ]
    },
    {
     "name": "stderr",
     "output_type": "stream",
     "text": [
      "  7%|████▉                                                              | 74/1000 [00:02<00:34, 27.16it/s]"
     ]
    },
    {
     "name": "stdout",
     "output_type": "stream",
     "text": [
      "Epoch 72/1000, Loss: 0.0011, Val loss:0.5106\n",
      "Epoch 73/1000, Loss: 0.0143, Val loss:0.3818\n",
      "Epoch 74/1000, Loss: 0.0077, Val loss:0.4492\n",
      "Epoch 75/1000, Loss: 0.0082, Val loss:0.5883\n",
      "Epoch 76/1000, Loss: 0.0193, Val loss:0.3928\n",
      "Epoch 77/1000, Loss: 0.0024, Val loss:0.4070\n"
     ]
    },
    {
     "name": "stderr",
     "output_type": "stream",
     "text": [
      "  8%|█████▎                                                             | 79/1000 [00:02<00:34, 26.39it/s]"
     ]
    },
    {
     "name": "stdout",
     "output_type": "stream",
     "text": [
      "Epoch 78/1000, Loss: 0.0197, Val loss:0.6329\n",
      "Epoch 79/1000, Loss: 0.0123, Val loss:0.4129\n",
      "Epoch 80/1000, Loss: 0.0022, Val loss:0.3631\n",
      "Early stopping at epoch 80\n"
     ]
    },
    {
     "name": "stderr",
     "output_type": "stream",
     "text": [
      "\n"
     ]
    }
   ],
   "source": [
    "import torch.nn as nn\n",
    "import torch.optim as optim\n",
    "from cnn_model import CNN_1d\n",
    "\n",
    "# Initialize the model and the optimizer\n",
    "model_cnn1d_1s = CNN_1d(n_features, lookback)\n",
    "criterion = nn.MSELoss() \n",
    "optimizer = optim.Adam(model_cnn1d_1s.parameters(), lr=learning_rate)\n",
    "\n",
    "num_epochs = 1000\n",
    "model_cnn1d_1s.fit(train_loader_1m, test_loader_1m, num_epochs,\n",
    "                    criterion, optimizer, min_delta=1e-4, patience=50)"
   ]
  },
  {
   "cell_type": "code",
   "execution_count": 127,
   "id": "0c5e2d3c-bb82-43a0-8644-0c8df7cdb650",
   "metadata": {},
   "outputs": [
    {
     "name": "stdout",
     "output_type": "stream",
     "text": [
      "tensor([[-0.3554],\n",
      "        [-0.4762],\n",
      "        [-0.5970],\n",
      "        [-0.7178],\n",
      "        [-0.8386],\n",
      "        [-0.8386],\n",
      "        [-0.8386],\n",
      "        [-0.8386],\n",
      "        [-0.8537],\n",
      "        [-0.8688],\n",
      "        [-0.8839],\n",
      "        [-0.9216],\n",
      "        [-0.9594],\n",
      "        [-0.9971],\n",
      "        [-0.9594],\n",
      "        [-0.9216],\n",
      "        [-0.8839],\n",
      "        [-0.8914]])\n",
      "x\n",
      "tensor([[-0.2680],\n",
      "        [-0.2835],\n",
      "        [-0.2969],\n",
      "        [-0.2713],\n",
      "        [-0.3959],\n",
      "        [-0.6654],\n",
      "        [-0.9229],\n",
      "        [-0.9639],\n",
      "        [-1.3301],\n",
      "        [-1.1208],\n",
      "        [-1.1228],\n",
      "        [-1.2112],\n",
      "        [-1.0729],\n",
      "        [-1.0387],\n",
      "        [-1.0065],\n",
      "        [-0.7979],\n",
      "        [-0.8030],\n",
      "        [-0.8880]])\n",
      "tensor([[-0.8990],\n",
      "        [-0.9065],\n",
      "        [-1.9031],\n",
      "        [-2.8996],\n",
      "        [-3.8961],\n",
      "        [-3.3223],\n",
      "        [-2.7486],\n",
      "        [-2.1748],\n",
      "        [-1.8955],\n",
      "        [-1.6162],\n",
      "        [-1.3369],\n",
      "        [-0.9971],\n",
      "        [-0.6574],\n",
      "        [-0.3177],\n",
      "        [ 0.6939],\n",
      "        [ 1.7055],\n",
      "        [ 2.7171],\n",
      "        [ 2.0679]])\n",
      "x\n",
      "tensor([[-0.8038],\n",
      "        [-1.0740],\n",
      "        [-1.4589],\n",
      "        [-1.6995],\n",
      "        [-2.9986],\n",
      "        [-2.9762],\n",
      "        [-2.4499],\n",
      "        [-1.2131],\n",
      "        [-0.5569],\n",
      "        [ 0.0326],\n",
      "        [-0.0725],\n",
      "        [-0.1757],\n",
      "        [-0.0596],\n",
      "        [ 0.0268],\n",
      "        [-0.0483],\n",
      "        [ 2.2371],\n",
      "        [ 0.0369],\n",
      "        [ 1.4899]])\n",
      "tensor([[ 1.4186],\n",
      "        [ 0.7694],\n",
      "        [ 0.6109],\n",
      "        [ 0.4523],\n",
      "        [ 0.2938],\n",
      "        [ 0.0975],\n",
      "        [-0.0988],\n",
      "        [-0.2951],\n",
      "        [-0.2573],\n",
      "        [-0.2196],\n",
      "        [-0.1818],\n",
      "        [-0.2196],\n",
      "        [-0.2573],\n",
      "        [-0.2951],\n",
      "        [-0.4385],\n",
      "        [-0.5819],\n",
      "        [-0.7254],\n",
      "        [-0.8537]])\n",
      "x\n",
      "tensor([[ 0.7474],\n",
      "        [ 0.2663],\n",
      "        [ 0.2599],\n",
      "        [ 0.3671],\n",
      "        [ 0.6665],\n",
      "        [ 0.6885],\n",
      "        [ 0.8936],\n",
      "        [ 0.6015],\n",
      "        [ 0.5252],\n",
      "        [ 0.2312],\n",
      "        [ 0.0592],\n",
      "        [ 0.2621],\n",
      "        [ 0.1613],\n",
      "        [ 0.1965],\n",
      "        [-0.2250],\n",
      "        [-0.6219],\n",
      "        [-0.9272],\n",
      "        [-1.1750]])\n",
      "tensor([[-0.9820],\n",
      "        [-1.1104]])\n",
      "x\n",
      "tensor([[-1.2238],\n",
      "        [-1.3502]])\n",
      "Test Loss: 0.4503, RMSE: 2.5828, MAE: 2.1340\n"
     ]
    }
   ],
   "source": [
    "model_cnn1d_1s.evaluate(test_loader_1m, criterion, y_scaler)"
   ]
  },
  {
   "cell_type": "code",
   "execution_count": 20,
   "id": "03ef47e4-8abf-4428-aead-5451c29decf2",
   "metadata": {},
   "outputs": [],
   "source": [
    "#### HELPER - PLOT FORECAST ####\n",
    "import matplotlib.pyplot as plt\n",
    "\n",
    "def plot_predictions(model, \n",
    "                     test_loader, \n",
    "                     test_dateindex,\n",
    "                     lookback,\n",
    "                     lookahead\n",
    "                     ):\n",
    "    y_pred = model.predict(test_loader.dataset.X)\n",
    "    y_pred = y_pred.cpu().detach()\n",
    "\n",
    "    start = lookback\n",
    "    end = len(test_dateindex) - lookahead\n",
    "\n",
    "    fig, axs = plt.subplots(1,1, figsize=(10,8), constrained_layout=True)\n",
    "\n",
    "    # for ax in axs.ravel():\n",
    "    axs.plot(test_dateindex[start:end], \n",
    "            test_loader.dataset.y, \n",
    "            linewidth=0.7, alpha=0.5, \n",
    "            color='#000099', label='y_true')\n",
    "\n",
    "    axs.plot(test_dateindex[start:end], \n",
    "            y_pred, \n",
    "            linewidth=0.7, alpha=0.5, \n",
    "            color='#ff0000', label='y_pred')\n",
    "\n",
    "    axs.legend()\n",
    "\n",
    "    axs.set_title('full year')\n",
    "    # axs[1].set_title('first 30 days')\n",
    "    # axs[2].set_title('last 30 days')\n",
    "    # axs[1].set_xlim(test_dateindex[start], test_dateindex[start+24*30])\n",
    "    # axs[2].set_xlim(test_dateindex[end-24*30], test_dateindex[end])\n",
    "    "
   ]
  },
  {
   "cell_type": "code",
   "execution_count": 58,
   "id": "cfd95475-1007-4d82-b0d7-cdfa21481c7d",
   "metadata": {
    "tags": []
   },
   "outputs": [
    {
     "name": "stdout",
     "output_type": "stream",
     "text": [
      "Test Loss: 0.4842, RMSE: 0.6397, MAE: 0.5287\n"
     ]
    }
   ],
   "source": [
    "model_cnn1d_1s.evaluate(test_loader_1m, criterion)"
   ]
  },
  {
   "cell_type": "code",
   "execution_count": 114,
   "id": "31525833-be0b-4e84-985b-1e76c95a6717",
   "metadata": {},
   "outputs": [
    {
     "data": {
      "image/png": "[encoded data removed]",
      "text/plain": [
       "<Figure size 1000x800 with 1 Axes>"
      ]
     },
     "metadata": {},
     "output_type": "display_data"
    }
   ],
   "source": [
    "lookback = 6\n",
    "lookahead = 1\n",
    "plot_predictions(model_cnn1d_1s, test_loader_1m,\n",
    "                 test_dateindex, lookback, lookahead)"
   ]
  },
  {
   "cell_type": "code",
   "execution_count": null,
   "id": "856b5d09-f8f2-45cb-b23c-23df52a09b1d",
   "metadata": {},
   "outputs": [
    {
     "data": {
      "image/png": "[encoded data removed]",
      "text/plain": [
       "<Figure size 1000x800 with 1 Axes>"
      ]
     },
     "metadata": {},
     "output_type": "display_data"
    }
   ],
   "source": [
    "lookback = 6\n",
    "lookahead = 1\n",
    "plot_predictions(model_cnn1d_1s, total_loader_1m,\n",
    "                 total_dateindex, lookback, lookahead)"
   ]
  },
  {
   "cell_type": "code",
   "execution_count": 61,
   "id": "f392c127-e959-4641-903f-7695462551bd",
   "metadata": {},
   "outputs": [],
   "source": [
    "batch_size=18\n",
    "\n",
    "# train and test dataloaders for lookback=7, lookahead=3\n",
    "lookback=7\n",
    "lookahead=3\n",
    "num_epochs = 30\n",
    "learning_rate = 0.001\n",
    "n_features = 15"
   ]
  },
  {
   "cell_type": "code",
   "execution_count": 62,
   "id": "2415762b-a2ea-447c-a4d6-df7d9a063ebe",
   "metadata": {},
   "outputs": [],
   "source": [
    "\n",
    "\n",
    "total_loader_3m = WindowGenerator(total,\n",
    "                                  lookback=lookback,\n",
    "                                  lookahead=lookahead,\n",
    "                                  batch_size=batch_size,\n",
    "                                  label_idx=0).make_dataloader()\n",
    "\n",
    "train_loader_3m = WindowGenerator(train,\n",
    "                                  lookback=lookback,\n",
    "                                  lookahead=lookahead,\n",
    "                                  batch_size=batch_size,\n",
    "                                  label_idx=0).make_dataloader()\n",
    "\n",
    "test_loader_3m = WindowGenerator(test,\n",
    "                                 lookback=lookback,\n",
    "                                 lookahead=lookahead,\n",
    "                                 batch_size=batch_size,\n",
    "                                 label_idx=0).make_dataloader()"
   ]
  },
  {
   "cell_type": "code",
   "execution_count": 63,
   "id": "868f855b-6b87-42df-9fb7-1afdd6a1e88b",
   "metadata": {},
   "outputs": [
    {
     "name": "stdout",
     "output_type": "stream",
     "text": [
      "Train Loader Data:\n",
      "Input Shape: torch.Size([18, 7, 15])\n",
      "Target Shape: torch.Size([18, 1])\n",
      "\n",
      "Test Loader Data:\n",
      "Input Shape: torch.Size([18, 7, 15])\n",
      "Target Shape: torch.Size([18, 1])\n"
     ]
    }
   ],
   "source": [
    "# Debug code to verify data loading and batching\n",
    "print(\"Train Loader Data:\")\n",
    "for x_batch, y_batch in train_loader_3m:\n",
    "    print(\"Input Shape:\", x_batch.shape)\n",
    "    print(\"Target Shape:\", y_batch.shape)\n",
    "    break  # Print only the first batch for brevity\n",
    "\n",
    "print(\"\\nTest Loader Data:\")\n",
    "for x_batch, y_batch in test_loader_3m:\n",
    "    print(\"Input Shape:\", x_batch.shape)\n",
    "    print(\"Target Shape:\", y_batch.shape)\n",
    "    break  # Print only the first batch for brevity\n"
   ]
  },
  {
   "cell_type": "code",
   "execution_count": 67,
   "id": "0a747311-ea48-4f97-b08b-40e1d59aa9c7",
   "metadata": {},
   "outputs": [
    {
     "name": "stderr",
     "output_type": "stream",
     "text": [
      " 10%|███████                                                               | 3/30 [00:00<00:01, 23.49it/s]"
     ]
    },
    {
     "name": "stdout",
     "output_type": "stream",
     "text": [
      "Epoch 1/30, Loss: 0.4260, Val loss:2.7320\n",
      "Epoch 2/30, Loss: 0.2249, Val loss:1.7301\n",
      "Epoch 3/30, Loss: 0.1429, Val loss:1.6168\n",
      "Epoch 4/30, Loss: 0.0720, Val loss:1.4858\n",
      "Epoch 5/30, Loss: 0.0333, Val loss:1.0368\n"
     ]
    },
    {
     "name": "stderr",
     "output_type": "stream",
     "text": [
      " 30%|█████████████████████                                                 | 9/30 [00:00<00:00, 23.40it/s]"
     ]
    },
    {
     "name": "stdout",
     "output_type": "stream",
     "text": [
      "Epoch 6/30, Loss: 0.0343, Val loss:0.9943\n",
      "Epoch 7/30, Loss: 0.0268, Val loss:1.1030\n",
      "Epoch 8/30, Loss: 0.0293, Val loss:1.7952\n",
      "Epoch 9/30, Loss: 0.0461, Val loss:1.7817\n",
      "Epoch 10/30, Loss: 0.1833, Val loss:0.7978\n"
     ]
    },
    {
     "name": "stderr",
     "output_type": "stream",
     "text": [
      " 50%|██████████████████████████████████▌                                  | 15/30 [00:00<00:00, 25.57it/s]"
     ]
    },
    {
     "name": "stdout",
     "output_type": "stream",
     "text": [
      "Epoch 11/30, Loss: 0.1876, Val loss:1.5777\n",
      "Epoch 12/30, Loss: 0.1215, Val loss:2.0169\n",
      "Epoch 13/30, Loss: 0.0170, Val loss:0.9337\n",
      "Epoch 14/30, Loss: 0.0435, Val loss:1.7084\n",
      "Epoch 15/30, Loss: 0.0160, Val loss:0.8749\n",
      "Epoch 16/30, Loss: 0.0214, Val loss:1.5334\n"
     ]
    },
    {
     "name": "stderr",
     "output_type": "stream",
     "text": [
      " 63%|███████████████████████████████████████████▋                         | 19/30 [00:00<00:00, 23.67it/s]"
     ]
    },
    {
     "name": "stdout",
     "output_type": "stream",
     "text": [
      "Epoch 17/30, Loss: 0.0186, Val loss:0.9738\n",
      "Epoch 18/30, Loss: 0.0122, Val loss:1.3080\n",
      "Epoch 19/30, Loss: 0.0103, Val loss:1.2221\n",
      "Epoch 20/30, Loss: 0.0106, Val loss:1.0757\n",
      "Early stopping at epoch 20\n"
     ]
    },
    {
     "name": "stderr",
     "output_type": "stream",
     "text": [
      "\n"
     ]
    }
   ],
   "source": [
    "import torch.nn as nn\n",
    "import torch.optim as optim\n",
    "from cnn_model import CNN_1d\n",
    "\n",
    "# Initialize the model and the optimizer\n",
    "model_cnn1d_3s = CNN_1d(n_features, lookback)\n",
    "criterion = nn.MSELoss() \n",
    "optimizer = optim.Adam(model_cnn1d_3s.parameters(), lr=learning_rate)\n",
    "\n",
    "model_cnn1d_3s.fit(train_loader_3m, test_loader_3m, num_epochs,\n",
    "                    criterion, optimizer, min_delta=1e-4, patience=10)"
   ]
  },
  {
   "cell_type": "code",
   "execution_count": 68,
   "id": "9b705f04-03dc-4ed7-928e-3046866f649a",
   "metadata": {},
   "outputs": [
    {
     "name": "stdout",
     "output_type": "stream",
     "text": [
      "Test Loss: 1.0727, RMSE: 0.9614, MAE: 0.8016\n"
     ]
    }
   ],
   "source": [
    "model_cnn1d_3s.evaluate(test_loader_3m, criterion)"
   ]
  },
  {
   "cell_type": "code",
   "execution_count": 69,
   "id": "7c87dfd8-e997-4543-84a2-770528030cb5",
   "metadata": {},
   "outputs": [
    {
     "data": {
      "image/png": "[encoded data removed]",
      "text/plain": [
       "<Figure size 1000x800 with 1 Axes>"
      ]
     },
     "metadata": {},
     "output_type": "display_data"
    }
   ],
   "source": [
    "lookback = 7\n",
    "lookahead = 3\n",
    "plot_predictions(model_cnn1d_3s, test_loader_3m,\n",
    "                 test_dateindex, lookback, lookahead)"
   ]
  },
  {
   "cell_type": "code",
   "execution_count": 89,
   "id": "d039cde9-2d6f-4077-844c-35929e62d912",
   "metadata": {},
   "outputs": [],
   "source": [
    "# assuming from previous dataset of \n",
    "# 6 lookback and 1 lookforward\n",
    "\n",
    "class CNN1D(nn.Module):\n",
    "    def __init__(self, num_features, seq_len):\n",
    "        super().__init__()\n",
    "        self.conv0 = nn.Conv1d(in_channels=num_features,out_channels = 3, kernel_size = 1)\n",
    "        self.conv1 = nn.Conv1d(in_channels=num_features,out_channels = 3, kernel_size = 3,padding=1)\n",
    "        self.conv2 = nn.Conv1d(in_channels=num_features,out_channels = 3, kernel_size = 5, padding = 2)\n",
    "        self.maxpool1 = nn.MaxPool1d(kernel_size = 3,dilation=1)\n",
    "        self.linear = nn.Linear(in_features=seq_len*3,out_features=1)\n",
    "        self.dropout = nn.Dropout(0.1)\n",
    "    def forward(self, x):\n",
    "        x = x.permute(0,2,1)\n",
    "        x0 = self.conv0(x)\n",
    "        x1 = self.conv1(x)\n",
    "        x2 = self.conv2(x)\n",
    "        x = torch.cat((x0,x1,x2),dim=1)\n",
    "        x = self.maxpool1(x)\n",
    "        x = torch.flatten(x,1)\n",
    "        x = F.relu(x)\n",
    "        x = self.linear(x)\n",
    "        x = self.dropout(x)\n",
    "        x = F.relu(x)\n",
    "        return x\n",
    "    "
   ]
  },
  {
   "cell_type": "code",
   "execution_count": null,
   "id": "ea434be8-84ff-487b-bcc3-3c4e27799e7a",
   "metadata": {},
   "outputs": [],
   "source": [
    "conv1d = CNN1D(num_features=11, seq_len=6).to(device)"
   ]
  }
 ],
 "metadata": {
  "kernelspec": {
   "display_name": "Python 3 (ipykernel)",
   "language": "python",
   "name": "python3"
  },
  "language_info": {
   "codemirror_mode": {
    "name": "ipython",
    "version": 3
   },
   "file_extension": ".py",
   "mimetype": "text/x-python",
   "name": "python",
   "nbconvert_exporter": "python",
   "pygments_lexer": "ipython3",
   "version": "3.11.3"
  }
 },
 "nbformat": 4,
 "nbformat_minor": 5
}
