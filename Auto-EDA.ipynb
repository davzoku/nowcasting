{
 "cells": [
  {
   "cell_type": "markdown",
   "id": "6508a3f3-6d38-4d2e-89a0-01688a2a8637",
   "metadata": {},
   "source": [
    "# Auto EDA\n",
    "\n",
    "This notebook generates the Auto-EDA for the GDP dataset."
   ]
  },
  {
   "cell_type": "code",
   "execution_count": 1,
   "id": "484c4417-db92-4635-8a3e-56228474f051",
   "metadata": {},
   "outputs": [
    {
     "name": "stderr",
     "output_type": "stream",
     "text": [
      "/opt/homebrew/Caskroom/miniconda/base/envs/dfm2/lib/python3.11/site-packages/tqdm/auto.py:22: TqdmWarning: IProgress not found. Please update jupyter and ipywidgets. See https://ipywidgets.readthedocs.io/en/stable/user_install.html\n",
      "  from .autonotebook import tqdm as notebook_tqdm\n"
     ]
    }
   ],
   "source": [
    "import pandas as pd\n",
    "from ydata_profiling import ProfileReport"
   ]
  },
  {
   "cell_type": "code",
   "execution_count": 3,
   "id": "0323699f-124d-4b14-b7c6-ef8a22b7259e",
   "metadata": {},
   "outputs": [
    {
     "name": "stderr",
     "output_type": "stream",
     "text": [
      "Summarize dataset:   0%| | 0/21 [00:00<?, ?it/s, Describe variable:Retail Sales Index, (2017 = 100), In C/opt/homebrew/Caskroom/miniconda/base/envs/dfm2/lib/python3.11/site-packages/ydata_profiling/model/pandas/describe_timeseries_pandas.py:117: FutureWarning: The 'mad' method is deprecated and will be removed in a future version. To compute the same result, you may do `(df - df.mean()).abs().mean()`.\n",
      "  mad = pos_fft_above_med[\"ampl\"].mad()\n",
      "/opt/homebrew/Caskroom/miniconda/base/envs/dfm2/lib/python3.11/site-packages/ydata_profiling/model/pandas/describe_timeseries_pandas.py:117: FutureWarning: The 'mad' method is deprecated and will be removed in a future version. To compute the same result, you may do `(df - df.mean()).abs().mean()`.\n",
      "  mad = pos_fft_above_med[\"ampl\"].mad()\n",
      "/opt/homebrew/Caskroom/miniconda/base/envs/dfm2/lib/python3.11/site-packages/ydata_profiling/model/pandas/describe_timeseries_pandas.py:117: FutureWarning: The 'mad' method is deprecated and will be removed in a future version. To compute the same result, you may do `(df - df.mean()).abs().mean()`.\n",
      "  mad = pos_fft_above_med[\"ampl\"].mad()\n",
      "/opt/homebrew/Caskroom/miniconda/base/envs/dfm2/lib/python3.11/site-packages/ydata_profiling/model/pandas/describe_timeseries_pandas.py:117: FutureWarning: The 'mad' method is deprecated and will be removed in a future version. To compute the same result, you may do `(df - df.mean()).abs().mean()`.\n",
      "  mad = pos_fft_above_med[\"ampl\"].mad()\n",
      "Summarize dataset:  14%|▏| 3/21 [00:00<00:00, 40.71it/s, Describe variable:Air Cargo Tonnage | Total Dire/opt/homebrew/Caskroom/miniconda/base/envs/dfm2/lib/python3.11/site-packages/ydata_profiling/model/pandas/describe_timeseries_pandas.py:117: FutureWarning: The 'mad' method is deprecated and will be removed in a future version. To compute the same result, you may do `(df - df.mean()).abs().mean()`.\n",
      "  mad = pos_fft_above_med[\"ampl\"].mad()\n",
      "/opt/homebrew/Caskroom/miniconda/base/envs/dfm2/lib/python3.11/site-packages/ydata_profiling/model/pandas/describe_timeseries_pandas.py:117: FutureWarning: The 'mad' method is deprecated and will be removed in a future version. To compute the same result, you may do `(df - df.mean()).abs().mean()`.\n",
      "  mad = pos_fft_above_med[\"ampl\"].mad()\n",
      "/opt/homebrew/Caskroom/miniconda/base/envs/dfm2/lib/python3.11/site-packages/ydata_profiling/model/pandas/describe_timeseries_pandas.py:117: FutureWarning: The 'mad' method is deprecated and will be removed in a future version. To compute the same result, you may do `(df - df.mean()).abs().mean()`.\n",
      "  mad = pos_fft_above_med[\"ampl\"].mad()\n",
      "/opt/homebrew/Caskroom/miniconda/base/envs/dfm2/lib/python3.11/site-packages/ydata_profiling/model/pandas/describe_timeseries_pandas.py:117: FutureWarning: The 'mad' method is deprecated and will be removed in a future version. To compute the same result, you may do `(df - df.mean()).abs().mean()`.\n",
      "  mad = pos_fft_above_med[\"ampl\"].mad()\n",
      "/opt/homebrew/Caskroom/miniconda/base/envs/dfm2/lib/python3.11/site-packages/ydata_profiling/model/pandas/describe_timeseries_pandas.py:117: FutureWarning: The 'mad' method is deprecated and will be removed in a future version. To compute the same result, you may do `(df - df.mean()).abs().mean()`.\n",
      "  mad = pos_fft_above_med[\"ampl\"].mad()\n",
      "/opt/homebrew/Caskroom/miniconda/base/envs/dfm2/lib/python3.11/site-packages/ydata_profiling/model/pandas/describe_timeseries_pandas.py:117: FutureWarning: The 'mad' method is deprecated and will be removed in a future version. To compute the same result, you may do `(df - df.mean()).abs().mean()`.\n",
      "  mad = pos_fft_above_med[\"ampl\"].mad()\n",
      "Summarize dataset:  24%|▏| 5/21 [00:00<00:01, 15.67it/s, Describe variable:Gross Domestic Product, Year O/opt/homebrew/Caskroom/miniconda/base/envs/dfm2/lib/python3.11/site-packages/ydata_profiling/model/pandas/describe_timeseries_pandas.py:117: FutureWarning: The 'mad' method is deprecated and will be removed in a future version. To compute the same result, you may do `(df - df.mean()).abs().mean()`.\n",
      "  mad = pos_fft_above_med[\"ampl\"].mad()\n",
      "Summarize dataset: 100%|████████████████████████████████████| 250/250 [00:11<00:00, 20.86it/s, Completed]\n",
      "Generate report structure: 100%|███████████████████████████████████████████| 1/1 [00:05<00:00,  5.95s/it]\n",
      "Render HTML: 100%|█████████████████████████████████████████████████████████| 1/1 [00:02<00:00,  2.04s/it]\n",
      "Export report to file: 100%|██████████████████████████████████████████████| 1/1 [00:00<00:00, 101.46it/s]\n"
     ]
    }
   ],
   "source": [
    "df = pd.read_csv('data_cleaned.csv')\n",
    "\n",
    "profile = ProfileReport(df, tsmode=True, sortby=\"Period\", html={'style':{'full_width':True}})\n",
    "profile.to_file('gdp_nowcasting_eda_report.html')"
   ]
  },
  {
   "cell_type": "code",
   "execution_count": null,
   "id": "28053aa6-91fa-4593-ae4e-2df608093588",
   "metadata": {},
   "outputs": [],
   "source": []
  }
 ],
 "metadata": {
  "kernelspec": {
   "display_name": "Python 3 (ipykernel)",
   "language": "python",
   "name": "python3"
  },
  "language_info": {
   "codemirror_mode": {
    "name": "ipython",
    "version": 3
   },
   "file_extension": ".py",
   "mimetype": "text/x-python",
   "name": "python",
   "nbconvert_exporter": "python",
   "pygments_lexer": "ipython3",
   "version": "3.11.3"
  }
 },
 "nbformat": 4,
 "nbformat_minor": 5
}
